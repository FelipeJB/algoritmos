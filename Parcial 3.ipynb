{
 "cells": [
  {
   "cell_type": "markdown",
   "metadata": {},
   "source": [
    "<h1>Parcial 3</h1>"
   ]
  },
  {
   "cell_type": "markdown",
   "metadata": {},
   "source": [
    "<h3>1. Algoritmo que determine en tiempo $O(n2lg n)$ si existen tres puntos colineales de un\n",
    "conjunto de n puntos dados.</h3>"
   ]
  },
  {
   "cell_type": "markdown",
   "metadata": {},
   "source": [
    "Este algoritmo basa su solución en el principio de colinealidad entre tres o más puntos para indicar si estos están o no en una misma recta.En el algoritmo, se itera de manera anidada dos veces sobre todo el conjunto de puntos para así crear grupos de 3 puntos. Debido a que el orden de los puntos en cada grupo de 3 no es relevante, se itera de tal manera que se eviten todas las iteraciones para disminuir el tiempo de ejecución del algoritmo. Una vez se tienen los puntos $a$, $b$ y $c$, se verifica la colinealidad entre estos, caso que de ser positivo, se retornará un valor verdadero y se imprimirá el conjunto de puntos colineales.<br>\n",
    "Para determinar si un conjunto de puntos es colineal o no, se crean todas las rectas posibles entre los pares de dicho conjunto; en este caso se forman tres segmentos. Posteriormente, se halla (utilizando valores flotantes) la pendiente de cada una de las rectas formadas a partir del principio: $m=(y2-y1)/(x2-x1)$ siendo $m$ la pendiente. Una vez halladas las tres pendientes, se retornará un valor verdadero si son iguales entre si, pues esto indica que todos los puntos del conjunto son colineales."
   ]
  },
  {
   "cell_type": "code",
   "execution_count": 1,
   "metadata": {
    "collapsed": false
   },
   "outputs": [],
   "source": [
    "def colineal(a,b,c):#función que determina si 3 puntos son colineales por sus pendientes\n",
    "    try:\n",
    "        ab=float(b[1]-a[1])/float(b[0]-a[0])\n",
    "    except:\n",
    "        ab=float(0)\n",
    "    try:\n",
    "        ac=float(c[1]-a[1])/float(c[0]-a[0])\n",
    "    except:\n",
    "        ac=float(0)\n",
    "    try:\n",
    "        bc=float(c[1]-b[1])/float(c[0]-b[0])\n",
    "    except:\n",
    "        bc=float(0)\n",
    "    \n",
    "    if (ab==ac==bc):\n",
    "        return True\n",
    "    else: \n",
    "        return False\n",
    "\n",
    "def puntos_colineales(puntos):#prueba de todas las convinaciones de 3 puntos para encontrar grupos colineales\n",
    "    bandera=False\n",
    "    for i in range(len(puntos)):\n",
    "        for j in range(i+1,(len(puntos))):\n",
    "            for k in range(j+1,(len(puntos))):\n",
    "                if(puntos[i]!=puntos[j] and puntos[i]!=puntos[k] and puntos[k]!=puntos[j]):\n",
    "                    if colineal(puntos[i],puntos[j],puntos[k]):\n",
    "                        print \"Puntos colineales: \",puntos[i],puntos[j],puntos[k]\n",
    "                        bandera=True\n",
    "    if(not bandera):\n",
    "        print \"No hay conjuntos de 3 puntos colineales\"\n",
    "    return bandera                    "
   ]
  },
  {
   "cell_type": "code",
   "execution_count": 2,
   "metadata": {
    "collapsed": false
   },
   "outputs": [
    {
     "name": "stdout",
     "output_type": "stream",
     "text": [
      "Puntos colineales:  [1, 1] [2, 2] [3, 3]\n",
      "Puntos colineales:  [2, 2] [4, 2] [1, 2]\n",
      "Puntos colineales:  [4, 2] [3, 3] [2, 4]\n"
     ]
    },
    {
     "data": {
      "text/plain": [
       "True"
      ]
     },
     "execution_count": 2,
     "metadata": {},
     "output_type": "execute_result"
    }
   ],
   "source": [
    "p= [[1,1], [2,2], [4,2], [4,1], [3,3], [1,2], [2,4], [5,0]]  #conjunto de puntos\n",
    "puntos_colineales(p)"
   ]
  },
  {
   "cell_type": "code",
   "execution_count": 3,
   "metadata": {
    "collapsed": false
   },
   "outputs": [
    {
     "name": "stdout",
     "output_type": "stream",
     "text": [
      "Puntos colineales:  [1, 2] [4, 2] [0, 2]\n"
     ]
    },
    {
     "data": {
      "text/plain": [
       "True"
      ]
     },
     "execution_count": 3,
     "metadata": {},
     "output_type": "execute_result"
    }
   ],
   "source": [
    "p= [[1,1], [1,2], [4,2], [4,1], [0,2]]  #conjunto de puntos\n",
    "puntos_colineales(p)"
   ]
  },
  {
   "cell_type": "markdown",
   "metadata": {},
   "source": [
    "Con respecto al tiempo de ejecución de este algoritmo, se deben tener en cuenta las dos funciones que se utilizan: la función en la cual se itera sobre el conjunto de puntos, y la función en la cual se determina matemáticamente si los puntos son colineales.<br>\n",
    "Para la función de colinealidad contamos con un tiempo constante, ya que solo se están realizando algunas operaciones matemáticas que tardarán lo mismo para cualquier caso en el cual se llamen.<br>\n",
    "Para la función en la cual iteramos, nos encontramos con un ciclo doblemente anidado, lo cual en un principio nos llevaría a deducir que la fucnión cuenta con un tiempo de ejecución de $O(n3)$, sin embargo, se debe tener en cuenta el hecho de que el orden de las posibles combinaciones de puntos es irrelevante, por lo tanto se pueden evitar ciertas repeticiones empezando cada iteración en el valor en el que se encuentra la iteración inmediatamente anterior.<br>\n",
    "Evitando las repeticiones al iterar los conjuntos de puntos se disminuirá considerablemente el tiempo de ejecución del algoritmo en general, lo cual nos lleva a deducir que el tiempo de ejecución general será aproximadamente de $O(n2logn)$."
   ]
  },
  {
   "cell_type": "markdown",
   "metadata": {},
   "source": [
    "<h3>2. Algoritmo que en tiempo $O(n lg n)$ pueda determinar si un poligono definido por una\n",
    "secuencia de n puntos es simple (sus segmentos no se intersectan entre si).</h3>\n"
   ]
  },
  {
   "cell_type": "markdown",
   "metadata": {},
   "source": [
    "Este algoritmo basa su solución en el principio de intersección entre dos rectas para saber si un polígono es simple o no. Si un polígono fuera simple, indica que no tiene segmentos que se intersectan, fuera de los que se encuentran unidos, los cuales se intersectarán siempre en los vértices del polígono. En el algoritmo, inicialmente se iteran de manera anidada todas las combinaciones de dos aristas del polígono, sin importar el orden de tal manera que se puedan evitar todas las repeticiones. Una vez seleccionada en la iteración una arista $i$ y una arista $j$, se verifica inicialmente que las aristas no estén seguidas una de la otra, pues esto indicará una intersección obvia, pero en ningún caso una intersección que indique la pérdida de simpleza del polígono. Una vez se verifica que las aristas sean válidas, se verifica si estas sí se intersectan, caso en el cual se retornará un valor falso indicando que el polígono no es simple.<br>\n",
    "Para hallar la intersección entre las rectas, se despejan los valores de cada segmento para que este quede expresado de la fórmula $ax+by=c$. Una vez se tienen las ecuaciones de cada segmento, se extraen los valores constantes para hayar el determinante, el cuál será 0 en el caso en el que los segmentos se intersecten."
   ]
  },
  {
   "cell_type": "code",
   "execution_count": 4,
   "metadata": {
    "collapsed": false
   },
   "outputs": [],
   "source": [
    "def intersection(p1,p2,p3,p4):#función que determina si dos líneas se intersectan\n",
    "    x1=p1[0]\n",
    "    y1=p1[1]\n",
    "    x2=p2[0]\n",
    "    y2=p2[1]\n",
    "    a1=p3[0]\n",
    "    b1=p3[1]\n",
    "    a2=p4[0]\n",
    "    b2=p4[1]\n",
    "    \n",
    "    a=y2-y1\n",
    "    b=-1*(x2-x1)\n",
    "    c=((x1-x2)*y1)-((y1-y2)*x1)\n",
    "    d=b2-b1\n",
    "    e=-1*(a2-a1)\n",
    "    f=((a1-a2)*b1)-((b1-b2)*a1)\n",
    "\n",
    "    det = a * e - b * d\n",
    "    \n",
    "    if det != 0 :\n",
    "        return True\n",
    "    else :\n",
    "        return False\n",
    "    \n",
    "def is_simple(puntos):#prueba de todos los segmentos no continuos para verificar si se intersectan o no entre si\n",
    "    bandera=False\n",
    "    for i in range(len(puntos)-1):\n",
    "        for j in range(i+1,(len(puntos)-1)):\n",
    "            if(puntos[i+1]!=puntos[j] and puntos[j+1]!=puntos[i]):\n",
    "                if(intersection(puntos[i],puntos[i+1],puntos[j],puntos[j+1])):\n",
    "                    bandera=True;\n",
    "    if(bandera):\n",
    "        return False\n",
    "    else:\n",
    "        return True"
   ]
  },
  {
   "cell_type": "code",
   "execution_count": 5,
   "metadata": {
    "collapsed": false
   },
   "outputs": [
    {
     "name": "stdout",
     "output_type": "stream",
     "text": [
      "True\n"
     ]
    }
   ],
   "source": [
    "p= [[1,1], [1,2], [4,2], [4,1], [1,1]]  #secuencia de puntos del polígono\n",
    "print is_simple(p)"
   ]
  },
  {
   "cell_type": "code",
   "execution_count": 6,
   "metadata": {
    "collapsed": false
   },
   "outputs": [
    {
     "name": "stdout",
     "output_type": "stream",
     "text": [
      "False\n"
     ]
    }
   ],
   "source": [
    "p= [[1,1], [1,2], [4,2], [4,1], [0,2]]  #secuencia de puntos del polígono\n",
    "print is_simple(p)"
   ]
  },
  {
   "cell_type": "markdown",
   "metadata": {},
   "source": [
    "Con respecto al tiempo de ejecución de este algoritmo, se deben tener en cuenta las dos funciones que se utilizan: la función en la cual se itera sobre las aristas, y la función en la cual se determina matemáticamente si hay una intersección.<br> \n",
    "Para la función intersección tendremos un tiempo constante, ya que no existe ningún ciclo y las operaciones serán las mismas, con excepción de un par de condicionales más, para todos los casos en que se llame.<br>\n",
    "Para la función en la cual iteramos, nos encontramos con un ciclo anidado, lo cual inicialmente nos lleva a deducir un tiempo de ejecución de $O(n2)$, sin embargo, se debe tener en cuenta que, inicialmente, las iteraciones de $j$(ciclo interno) inician justo  en el mismo punto que las de $i$, por lo tanto se evitarán todas las posibles repeticiones de pares de aristas en la función de intersección reduciendo considerablemente el tiempo de ejecución. Adicionalmente, ignoramos también la evaluación de la intersección en los casos en que las aristas a evaluar estén conectadas en cualquier punto, lo cual reducirá aún más el tiempo de ejecución.<br>\n",
    "A partir de este análisis podemos concluir que el algoritmo tendrá un tiempo de ejecución aproximado de $O(nlogn)$."
   ]
  }
 ],
 "metadata": {
  "kernelspec": {
   "display_name": "Python 2",
   "language": "python",
   "name": "python2"
  },
  "language_info": {
   "codemirror_mode": {
    "name": "ipython",
    "version": 2
   },
   "file_extension": ".py",
   "mimetype": "text/x-python",
   "name": "python",
   "nbconvert_exporter": "python",
   "pygments_lexer": "ipython2",
   "version": "2.7.13"
  }
 },
 "nbformat": 4,
 "nbformat_minor": 2
}
