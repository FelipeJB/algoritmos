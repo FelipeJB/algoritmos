{
 "cells": [
  {
   "cell_type": "markdown",
   "metadata": {},
   "source": [
    "<h1>Taller 5</h1>\n",
    "<h2>Grafos y algoritmos voraces</h2>"
   ]
  },
  {
   "cell_type": "code",
   "execution_count": 1,
   "metadata": {
    "collapsed": true
   },
   "outputs": [],
   "source": [
    "import math\n",
    "import numpy as np\n",
    "import pylab as pl\n",
    "import random as rnd\n",
    "import time\n",
    "%matplotlib inline"
   ]
  },
  {
   "cell_type": "markdown",
   "metadata": {},
   "source": [
    "<h3>1. \n",
    "Algoritmo de búsqueda en profundidad (DFS) para recorrer el grafo del laberinto de pacman.</h3>"
   ]
  },
  {
   "cell_type": "code",
   "execution_count": 2,
   "metadata": {
    "collapsed": true
   },
   "outputs": [],
   "source": [
    "class Grafo(object):\n",
    "    def __init__(self):\n",
    "        self.relaciones = {}\n",
    "    def __str__(self):\n",
    "        return str(self.relaciones)\n",
    " \n",
    "    def add(grafo, elemento):\n",
    "        grafo.relaciones.update({elemento:[]})\n",
    "        \n",
    "    def one_side_join(grafo, origen, destino):\n",
    "        grafo.relaciones[origen].append(destino)\n",
    "        \n",
    "    def join(grafo, elemento1, elemento2):\n",
    "        grafo.one_side_join(elemento1, elemento2)\n",
    "        grafo.one_side_join(elemento2, elemento1)\n",
    "        \n",
    "#implementación basada en  https://sites.google.com/site/programacioniiuno/temario/unidad-5---grafos/algoritmos-de-bsquedas"
   ]
  },
  {
   "cell_type": "markdown",
   "metadata": {},
   "source": [
    "<h4>El grafo a utilizar será el siguiente:</h4>\n",
    "<br><img src=\"https://github.com/FelipeJB/algoritmos/blob/master/Pacman.png?raw=true\" width=\"400px\"><br>\n",
    "<h4>El cual se implementará de la siguiente forma:</h4>"
   ]
  },
  {
   "cell_type": "code",
   "execution_count": 3,
   "metadata": {
    "collapsed": false
   },
   "outputs": [],
   "source": [
    "G=Grafo()\n",
    "\n",
    "G.add(\"A\");G.add(\"B\");G.add(\"C\");G.add(\"D\");G.add(\"E\");G.add(\"F\");G.add(\"G\");G.add(\"H\");\n",
    "G.add(\"I\");G.add(\"J\");G.add(\"K\");G.add(\"L\");G.add(\"M\");G.add(\"N\");G.add(\"O\");G.add(\"P\");\n",
    "G.add(\"Q\");G.add(\"R\");G.add(\"S\");G.add(\"T\");G.add(\"U\");G.add(\"V\");G.add(\"W\");G.add(\"X\");\n",
    "\n",
    "G.join(\"A\",\"C\");G.join(\"A\",\"D\");G.join(\"A\",\"F\");\n",
    "G.join(\"B\",\"G\");G.join(\"B\",\"I\");G.join(\"B\",\"J\");\n",
    "G.join(\"C\",\"D\");G.join(\"C\",\"K\");\n",
    "G.join(\"D\",\"E\");G.join(\"D\",\"K\");\n",
    "G.join(\"E\",\"L\");G.join(\"E\",\"F\");\n",
    "G.join(\"J\",\"N\");G.join(\"J\",\"I\");\n",
    "G.join(\"I\",\"N\");G.join(\"I\",\"H\");\n",
    "G.join(\"H\",\"M\");G.join(\"H\",\"G\");\n",
    "G.join(\"O\",\"K\");G.join(\"O\",\"Q\");G.join(\"O\",\"U\");G.join(\"O\",\"R\");\n",
    "G.join(\"P\",\"N\");G.join(\"P\",\"S\");G.join(\"P\",\"T\");G.join(\"P\",\"V\");\n",
    "G.join(\"Q\",\"R\");G.join(\"Q\",\"U\");\n",
    "G.join(\"T\",\"S\");G.join(\"T\",\"V\");\n",
    "G.join(\"W\",\"R\");G.join(\"W\",\"U\");\n",
    "G.join(\"X\",\"S\");G.join(\"X\",\"V\");G.join(\"X\",\"W\");"
   ]
  },
  {
   "cell_type": "markdown",
   "metadata": {},
   "source": [
    "<h4>A continuación se muestra el algoritmo de búsqueda en profundidad en el grafo:</h4>"
   ]
  },
  {
   "cell_type": "code",
   "execution_count": 4,
   "metadata": {
    "collapsed": true
   },
   "outputs": [],
   "source": [
    "def dfs(g, inicio, rec):\n",
    "    if inicio in rec:\n",
    "        return\n",
    "    print inicio\n",
    "    rec.append(inicio)\n",
    "    for x in g.relaciones[inicio]:\n",
    "        dfs(g, x, rec)"
   ]
  },
  {
   "cell_type": "code",
   "execution_count": 5,
   "metadata": {
    "collapsed": false
   },
   "outputs": [
    {
     "name": "stdout",
     "output_type": "stream",
     "text": [
      "A\n",
      "C\n",
      "D\n",
      "E\n",
      "L\n",
      "F\n",
      "K\n",
      "O\n",
      "Q\n",
      "R\n",
      "W\n",
      "U\n",
      "X\n",
      "S\n",
      "P\n",
      "N\n",
      "J\n",
      "B\n",
      "G\n",
      "H\n",
      "I\n",
      "M\n",
      "T\n",
      "V\n"
     ]
    }
   ],
   "source": [
    "dfs(G,\"A\",[])"
   ]
  },
  {
   "cell_type": "markdown",
   "metadata": {},
   "source": [
    "<h3>2. \n",
    "Análisis justificado del tiempo de ejecución del algoritmo DFS.</h3>"
   ]
  },
  {
   "cell_type": "code",
   "execution_count": 6,
   "metadata": {
    "collapsed": true
   },
   "outputs": [],
   "source": [
    "class Counter:\n",
    "    '''\n",
    "    Class Counter\n",
    "    Implements a step counter, which is used to compute the number of basic operations performed in\n",
    "    a particular call to a function.\n",
    "    '''\n",
    "    def __init__(self):\n",
    "        self.steps = 0\n",
    "\n",
    "    def reset(self):\n",
    "        self.steps = 0\n",
    "\n",
    "    def count(self):\n",
    "        self.steps += 1\n",
    "\n",
    "    def print_steps(self):\n",
    "        print \"Number of steps =\", self.steps\n",
    "        \n",
    "def acct_dfs(g, inicio, acct, rec):\n",
    "    if inicio in rec:\n",
    "        acct.count()\n",
    "        return\n",
    "    #print inicio; acct.count()\n",
    "    rec.append(inicio); acct.count()\n",
    "    for x in g.relaciones[inicio]:\n",
    "        acct.count()\n",
    "        acct_dfs(g, x, acct, rec); acct.count()\n",
    "        \n",
    "def dfs_exper_analysis(n):\n",
    "    results = []\n",
    "    tiempo=[]    \n",
    "    acct = Counter()\n",
    "    for i in range (2,n):\n",
    "        g=Grafo()\n",
    "        for j in range (0,i):\n",
    "            g.add(j)\n",
    "            \n",
    "        for j in range (0,i):\n",
    "            g.join(j,rnd.randint(1,i-1))\n",
    "            g.join(j,rnd.randint(1,i-1))                      \n",
    "        acct.reset\n",
    "        tic = time.clock()#get start time\n",
    "        acct_dfs(g,i-2,acct,[])\n",
    "        toc = time.clock()#get final time\n",
    "        tiempo.append(toc-tic)\n",
    "        results.append(acct.steps)\n",
    "        \n",
    "    r= [tiempo, results]\n",
    "    \n",
    "    return r"
   ]
  },
  {
   "cell_type": "code",
   "execution_count": 7,
   "metadata": {
    "collapsed": false
   },
   "outputs": [
    {
     "data": {
      "text/plain": [
       "[<matplotlib.lines.Line2D at 0x78ad6d8>,\n",
       " <matplotlib.lines.Line2D at 0x7b10898>]"
      ]
     },
     "execution_count": 7,
     "metadata": {},
     "output_type": "execute_result"
    },
    {
     "data": {
      "image/png": "[encoded data removed]",
      "text/plain": [
       "<matplotlib.figure.Figure at 0x7b8e7b8>"
      ]
     },
     "metadata": {},
     "output_type": "display_data"
    }
   ],
   "source": [
    "pl.figure (1)\n",
    "x=np.arange(98)\n",
    "res=(dfs_exper_analysis(100))\n",
    "p=np.array(res[0])\n",
    "t=np.array(res[0])*10000\n",
    "pl.plot(x, p, 'k.', t, 'r.')"
   ]
  },
  {
   "cell_type": "markdown",
   "metadata": {},
   "source": [
    "Si un grafo cuenta con n vertices y m aristas, el tiempo de ejecución de la búsqueda en profundidad será de $O(n*m)$, debido a que en el peor de los casos, se terminarán recorriendo cada una de las aristas y cada uno de los vértices una sola vez (suponiendo el peor de los casos, por lo tanto no habría ciclos). En este caso en particular, se le están agregando aproximadamente 2 vértices al grafo por cada arista, por lo tanto, en el peor de los casos m sería el doble de n, y en el mejor de los casos sería n (debido a que algunas relaciones pueden ser de un vértice hacia él mismo). <br>\n",
    "Debido a esto podemos ver que la gráfica aumenta proporcionalmente al aumento de n y de m, con algunos casos un poco distantes, cuando m toma un valor mayor en comparación de n."
   ]
  },
  {
   "cell_type": "markdown",
   "metadata": {},
   "source": [
    "<h3>3. \n",
    "Diseño e implementación de un algoritmo que identifique ciclos en un grafo.</h3>"
   ]
  },
  {
   "cell_type": "markdown",
   "metadata": {},
   "source": [
    "Para identificar si hay ciclos en un grafo se debe recorrer el mismo, verificando cuáles puntos ya se han recorrido y si se vuelve de alguna manera a llegar a ellos, para en tal caso, identificar que existe un ciclo. Se partirá del algoritmo <i><b>DFS</b></i>, debido a que este recorre todo el grafo verificando que no pase por vértices los cuales ya haya recorrido. Para este algoritmo, se especificará entonces que cuando se llegue a un vértice al cual ya se había llegado antes, no solo se retornará al anterior llamado a la función, sino que se imprimirá también que se ha detectado un ciclo.<br>\n",
    "A continuación una implementación del algoritmo, junto con un caso de prueba con el grafo creado a partir del tablero de <i>Pacman</i>"
   ]
  },
  {
   "cell_type": "code",
   "execution_count": 8,
   "metadata": {
    "collapsed": true
   },
   "outputs": [],
   "source": [
    "def id_ciclos(g, inicio, rec):\n",
    "    if inicio in rec:\n",
    "        print \"Ciclo en vértice\",inicio\n",
    "        return\n",
    "    rec.append(inicio)\n",
    "    for x in g.relaciones[inicio]:\n",
    "        id_ciclos(g, x, rec)"
   ]
  },
  {
   "cell_type": "code",
   "execution_count": 9,
   "metadata": {
    "collapsed": false
   },
   "outputs": [
    {
     "name": "stdout",
     "output_type": "stream",
     "text": [
      "Ciclo en vértice A\n",
      "Ciclo en vértice A\n",
      "Ciclo en vértice C\n",
      "Ciclo en vértice D\n",
      "Ciclo en vértice E\n",
      "Ciclo en vértice A\n",
      "Ciclo en vértice E\n",
      "Ciclo en vértice C\n",
      "Ciclo en vértice D\n",
      "Ciclo en vértice K\n",
      "Ciclo en vértice O\n",
      "Ciclo en vértice O\n",
      "Ciclo en vértice Q\n",
      "Ciclo en vértice R\n",
      "Ciclo en vértice O\n",
      "Ciclo en vértice Q\n",
      "Ciclo en vértice W\n",
      "Ciclo en vértice B\n",
      "Ciclo en vértice B\n",
      "Ciclo en vértice J\n",
      "Ciclo en vértice N\n",
      "Ciclo en vértice H\n",
      "Ciclo en vértice H\n",
      "Ciclo en vértice G\n",
      "Ciclo en vértice I\n",
      "Ciclo en vértice J\n",
      "Ciclo en vértice N\n",
      "Ciclo en vértice I\n",
      "Ciclo en vértice I\n",
      "Ciclo en vértice P\n",
      "Ciclo en vértice S\n",
      "Ciclo en vértice P\n",
      "Ciclo en vértice S\n",
      "Ciclo en vértice P\n",
      "Ciclo en vértice T\n",
      "Ciclo en vértice X\n",
      "Ciclo en vértice V\n",
      "Ciclo en vértice T\n",
      "Ciclo en vértice X\n",
      "Ciclo en vértice V\n",
      "Ciclo en vértice W\n",
      "Ciclo en vértice U\n",
      "Ciclo en vértice U\n",
      "Ciclo en vértice R\n",
      "Ciclo en vértice K\n",
      "Ciclo en vértice D\n",
      "Ciclo en vértice F\n"
     ]
    }
   ],
   "source": [
    "id_ciclos(G,\"A\",[])"
   ]
  },
  {
   "cell_type": "markdown",
   "metadata": {},
   "source": [
    "<h3>4. \n",
    "Diseño e implementación de un algoritmo que verifique si un grafo es bipartito o no.</h3>"
   ]
  },
  {
   "cell_type": "markdown",
   "metadata": {},
   "source": [
    "Para identificar si un grafo es bipartito o no nos podemos basar en 4 condiciones particulares de los grafos bipartitos:<br><br>\n",
    "<b><i>Si un grafo tiene número impar de vértices y no tiene ciclos, el grafo es bipartito</i></b><br>\n",
    "<b><i>Si un grafo tiene número impar de vértices y tiene ciclos, el grafo no es bipartito</i></b><br>\n",
    "<b><i>Si un grafo tiene número par de vértices y no tiene ciclos, el grafo no es bipartito</i></b><br>\n",
    "<b><i>Si un grafo tiene número par de vértices y tiene ciclos, el grafo es bipartito</i></b><br><br>\n",
    "A partir de estas condiciones, se puede utilizar la función para determinar si un grafo cuenta o no con ciclos, con algunas modificaciones para que guarde en un valor booleano si el grafo tiene ciclos o no. Posteriormente, se evaluará si el grafo tiene una cantidad par o impar de vértices, para así concluir si el grafo es o no bipartito.\n",
    "Para probar esta implementación se utilizará el grafo de <i>Pacman</i> instanciado anteriormente."
   ]
  },
  {
   "cell_type": "code",
   "execution_count": 10,
   "metadata": {
    "collapsed": false
   },
   "outputs": [],
   "source": [
    "def ciclos(g, inicio, c, rec):\n",
    "    if inicio in rec:\n",
    "        c[0]=True\n",
    "        return\n",
    "    rec.append(inicio)\n",
    "    for x in g.relaciones[inicio]:\n",
    "        ciclos(g, x, c,  rec)\n",
    "        \n",
    "def bipartito(g, inicio):\n",
    "    c=[]\n",
    "    c.append(False)\n",
    "    ciclos(g, inicio, c, [])\n",
    "    if c[0]==True:\n",
    "        if len(g.relaciones)%2==0:\n",
    "            return True    \n",
    "        else:\n",
    "            return False    \n",
    "    else:\n",
    "        if len(g.relaciones)%2==0:\n",
    "            return False    \n",
    "        else:            \n",
    "            return True"
   ]
  },
  {
   "cell_type": "code",
   "execution_count": 11,
   "metadata": {
    "collapsed": false
   },
   "outputs": [
    {
     "name": "stdout",
     "output_type": "stream",
     "text": [
      "El grafo es bipartito\n"
     ]
    }
   ],
   "source": [
    "if bipartito(G,\"A\"):\n",
    "    print \"El grafo es bipartito\"\n",
    "else:\n",
    "    print \"El grafo no es bipartito\""
   ]
  },
  {
   "cell_type": "markdown",
   "metadata": {},
   "source": [
    "<h3>5. \n",
    "Modificación del algoritmo de dijkstra para solucionar el problema de la ruta más corta en un grafo sin pesos, i.e. partiendo de un vertice inicial encontrar la ruta y su distancia a todos los demás vertices haciendo la menor cantidad de saltos.</h3>"
   ]
  },
  {
   "cell_type": "code",
   "execution_count": 12,
   "metadata": {
    "collapsed": false
   },
   "outputs": [],
   "source": [
    "def min_path(grafo, origen, destino):\n",
    "    etiquetas = {origen:(0,None)}\n",
    "    dijkstra(grafo, destino, etiquetas, [])\n",
    "    return build(etiquetas, origen, destino)\n",
    "\n",
    "def build(etiquetas, origen, destino):    \n",
    "    if origen == destino:\n",
    "        return [origen]\n",
    "    return build(etiquetas, origen, (etiquetas[destino])[1]) + [destino]\n",
    "    \n",
    "    \n",
    "def dijkstra(grafo, destino, etiquetas, procesados):\n",
    "    etiquetadosSinProcesar = filter(lambda (nodo,_):not nodo in procesados, etiquetas.iteritems())    \n",
    "    nodoActual = min(etiquetadosSinProcesar, key=lambda (_, (acum, __)): acum)[0]\n",
    "    if nodoActual == destino: \n",
    "        return\n",
    "    procesados.append(nodoActual)\n",
    "    aristasDeVecinosNoProcesados = filter(lambda x: not x in procesados, grafo.relaciones[nodoActual])\n",
    "    for vecino in aristasDeVecinosNoProcesados:\n",
    "        etiquetaNodoAnterior = etiquetas[nodoActual]\n",
    "        etiquetaPropuesta = 1 + etiquetaNodoAnterior[0], nodoActual\n",
    "        if (not(etiquetas.has_key(vecino)) or  etiquetaPropuesta[0] < (etiquetas[vecino])[0] ):\n",
    "            etiquetas.update({vecino:etiquetaPropuesta})        \n",
    "    dijkstra(grafo, destino, etiquetas, procesados)\n"
   ]
  },
  {
   "cell_type": "code",
   "execution_count": 13,
   "metadata": {
    "collapsed": false
   },
   "outputs": [
    {
     "name": "stdout",
     "output_type": "stream",
     "text": [
      "['A', 'C', 'K', 'O', 'R', 'W', 'X']\n"
     ]
    }
   ],
   "source": [
    "print min_path(G,\"A\",\"X\")"
   ]
  }
 ],
 "metadata": {
  "kernelspec": {
   "display_name": "Python 2",
   "language": "python",
   "name": "python2"
  },
  "language_info": {
   "codemirror_mode": {
    "name": "ipython",
    "version": 2
   },
   "file_extension": ".py",
   "mimetype": "text/x-python",
   "name": "python",
   "nbconvert_exporter": "python",
   "pygments_lexer": "ipython2",
   "version": "2.7.13"
  }
 },
 "nbformat": 4,
 "nbformat_minor": 2
}
