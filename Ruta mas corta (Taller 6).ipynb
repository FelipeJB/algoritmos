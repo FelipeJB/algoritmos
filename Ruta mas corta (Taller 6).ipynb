{
 "cells": [
  {
   "cell_type": "markdown",
   "metadata": {},
   "source": [
    "<h1>Taller 6</h1>"
   ]
  },
  {
   "cell_type": "markdown",
   "metadata": {},
   "source": [
    "<h2>Ruta más corta</h2>"
   ]
  },
  {
   "cell_type": "code",
   "execution_count": 1,
   "metadata": {
    "collapsed": true
   },
   "outputs": [],
   "source": [
    "import math\n",
    "import numpy as np\n",
    "import pylab as pl\n",
    "import matplotlib.pyplot as plt\n",
    "import random as rnd\n",
    "import time\n",
    "%matplotlib inline\n",
    "\n",
    "def FloydWarshall(W):\n",
    "    n = W.shape[0]\n",
    "    D_list = []#Save each D^{(k)} matrix\n",
    "    D_list.append(W[:,:])#D^{(0)}\n",
    "    for k in range(n):        \n",
    "        D_k = D_list[k][:,:]\n",
    "        for i in range(n):\n",
    "            for j in range(n):\n",
    "                D_k[i,j] = min(D_list[k][i,j], D_list[k][i,k]+D_list[k][k,j])        \n",
    "        D_list.append(np.copy(D_k))\n",
    "    return D_k, D_list\n",
    "\n",
    "def graphToMatrix(graph):\n",
    "    gMatx = np.ones((len(graph),len(graph)))*float('inf')\n",
    "\n",
    "    for node in graph:\n",
    "        gMatx[graph.keys().index(node),graph.keys().index(node)] = 0\n",
    "        for neigh in graph[node]:\n",
    "            gMatx[graph.keys().index(node), graph.keys().index(neigh)] = graph[node][neigh]\n",
    "\n",
    "    return gMatx"
   ]
  },
  {
   "cell_type": "markdown",
   "metadata": {},
   "source": [
    "<h3>1. Método para crear grafos aleatorios de $n$ vertices, donde con probabilidad $\\psi \\in [0,1]$ se define si existe una arista entre cada par de vertices $(i,j)$. El peso $\\omega(i,j) \\in [minw, maxw]$ se asignará de manera aleatoria uniformemente en el intervalo $[minw, maxw]$</h3>"
   ]
  },
  {
   "cell_type": "code",
   "execution_count": 2,
   "metadata": {
    "collapsed": false
   },
   "outputs": [],
   "source": [
    "def randGraph(psi, n, wmin, wmax):\n",
    "\n",
    "    if psi >1:\n",
    "        psi=1  #Validación de probabilidades válidas\n",
    "    if psi <0:\n",
    "        psi=0\n",
    "    \n",
    "    vert = []\n",
    "    vec = []\n",
    "    for i in range(n):\n",
    "        vert.append(chr(65+i))\n",
    "        vec.append([]) #Creación de vértices y arreglos de vecinos\n",
    "    \n",
    "    comp=0\n",
    "    for a in vec:\n",
    "        for b in vert:\n",
    "            x=rnd.randint(1, 10)\n",
    "            if x<=psi*10 and vert[comp]!=b:\n",
    "                a.append(b) #Llenado de listas de vecinos\n",
    "        comp=comp+1\n",
    "    \n",
    "    costos = []\n",
    "    for a in range(len(vec)):\n",
    "        cost = [rnd.randint(wmin, wmax) for x in xrange(len(vec[a]))] #Agregación de costos\n",
    "        costos.append(dict(zip(vec[a], cost)))\n",
    "\n",
    "    return dict(zip(vert, costos))"
   ]
  },
  {
   "cell_type": "code",
   "execution_count": 3,
   "metadata": {
    "collapsed": false
   },
   "outputs": [
    {
     "name": "stdout",
     "output_type": "stream",
     "text": [
      "{'A': {'C': 3}, 'C': {}, 'B': {}, 'E': {'A': 8}, 'D': {'A': 2}}\n"
     ]
    }
   ],
   "source": [
    "print randGraph(0.3,5,1,10) #Imprimir grafo con probabilidad de 0.3, 5 vértices y peso entre 1 y 10"
   ]
  },
  {
   "cell_type": "markdown",
   "metadata": {},
   "source": [
    "<h3>2. Adaptación del algoritmo de Dijkstra para calcular todos los pares de rutas más cortas</h3>"
   ]
  },
  {
   "cell_type": "code",
   "execution_count": 4,
   "metadata": {
    "collapsed": true
   },
   "outputs": [],
   "source": [
    "from heapq import heappush, heappop\n",
    "\n",
    "def updateheap(heap,d,v):\n",
    "    for i in range(len(heap)):\n",
    "        if heap[i][1] == v:\n",
    "            heap[i][0] = d\n",
    "            fix_minheap(heap,i) # heap=heapify(heap) ineficient      \n",
    "            break    \n",
    "\n",
    "def fix_minheap(heap, i):\n",
    "    if i == 0: return  \n",
    "    p = int(i/2) #parent  \n",
    "    if p >= 0 and heap[p][0] > heap[i][0]:\n",
    "        heap[i], heap[p] = heap[p], heap[i]\n",
    "        fix_minheap(heap,p)   \n",
    "            \n",
    "def Dijkstra(G,start):\n",
    "        \n",
    "    D = {} # dictionary of final distances\n",
    "    for v in G:\n",
    "        D[v] = float('inf')\n",
    "    D[start] = 0\n",
    "    \n",
    "    P = {} # dictionary of predecessors\n",
    "    \n",
    "    Q=[] #  priority queue est.dist. of non-final vert.\n",
    "    for v in G:\n",
    "        item = []\n",
    "        item.append(D[v])\n",
    "        item.append(v)\n",
    "        heappush(Q,item)\n",
    "    \n",
    "    \n",
    "    #S = []\n",
    "    while Q:\n",
    "        u = heappop(Q)[1]\n",
    "        #S.append(u)\n",
    "        for v in G[u]:\n",
    "            newDuv = D[u] + G[u][v]\n",
    "            if newDuv < D[v]:\n",
    "                P[v] = u\n",
    "                D[v] = newDuv\n",
    "                updateheap(Q,D[v],v)\n",
    "    return D,P\n",
    "\n",
    "def fullDijkstra(G):\n",
    "    res=[]\n",
    "    for x in G:\n",
    "        for y in G:\n",
    "            d,p = Dijkstra(G,x)\n",
    "            Path = []\n",
    "            while 1:\n",
    "                Path.append(y)\n",
    "                if y == x: break\n",
    "                y = p[y]\n",
    "            Path.reverse()\n",
    "            res.append(Path)\n",
    "    return res"
   ]
  },
  {
   "cell_type": "code",
   "execution_count": 5,
   "metadata": {
    "collapsed": false
   },
   "outputs": [
    {
     "name": "stdout",
     "output_type": "stream",
     "text": [
      "Grafo:\n",
      "{'A': {'C': 7, 'B': 5, 'E': 3, 'D': 9}, 'C': {'A': 1, 'B': 1, 'E': 1, 'D': 7}, 'B': {'A': 10, 'D': 2}, 'E': {'C': 6, 'B': 3, 'D': 4}, 'D': {'C': 8, 'B': 4, 'E': 5}}\n",
      "Rutas:\n",
      "[['A'], ['A', 'C'], ['A', 'B'], ['A', 'E'], ['A', 'E', 'D'], ['C', 'A'], ['C'], ['C', 'B'], ['C', 'E'], ['C', 'B', 'D'], ['B', 'A'], ['B', 'D', 'C'], ['B'], ['B', 'D', 'E'], ['B', 'D'], ['E', 'C', 'A'], ['E', 'C'], ['E', 'B'], ['E'], ['E', 'D'], ['D', 'C', 'A'], ['D', 'C'], ['D', 'B'], ['D', 'E'], ['D']]\n"
     ]
    }
   ],
   "source": [
    "g= randGraph(0.7,5,1,10)\n",
    "print \"Grafo:\"\n",
    "print g\n",
    "print \"Rutas:\"\n",
    "print(fullDijkstra(g))"
   ]
  },
  {
   "cell_type": "markdown",
   "metadata": {},
   "source": [
    "<h3>3. Adaptación del algoritmo de Bellman-Ford para calcular todos los pares de rutas más cortas</h3>"
   ]
  },
  {
   "cell_type": "code",
   "execution_count": 6,
   "metadata": {
    "collapsed": true
   },
   "outputs": [],
   "source": [
    "def BellmanFord(G,start):\n",
    "    \n",
    "    D = {} # dictionary of final distances\n",
    "    for v in G:\n",
    "        D[v] = float('inf')\n",
    "    D[start] = 0\n",
    "    \n",
    "    P = {} # dictionary of predecessors\n",
    "    \n",
    "    for i in range(len(G)-1):\n",
    "        for u in G:\n",
    "            for v in G[u]:   \n",
    "                newDv = D[u] + G[u][v]\n",
    "                if newDv < D[v]:\n",
    "                    P[v] = u\n",
    "                    D[v] = newDv\n",
    "    \n",
    "    for u in G:\n",
    "        for v in G[u]:   \n",
    "            newDv = D[u] + G[u][v]\n",
    "            if newDv < D[v]: print(\"Negative cicle\",u,v)\n",
    "                \n",
    "    return D,P\n",
    "\n",
    "def fullBellmanFord(G):\n",
    "    res=[]\n",
    "    for x in G:\n",
    "        for y in G:\n",
    "            d,p = BellmanFord(G,x)\n",
    "            Path = []\n",
    "            while 1:\n",
    "                Path.append(y)\n",
    "                if y == x: break\n",
    "                y = p[y]\n",
    "            Path.reverse()\n",
    "            res.append(Path)\n",
    "    return res"
   ]
  },
  {
   "cell_type": "code",
   "execution_count": 7,
   "metadata": {
    "collapsed": false
   },
   "outputs": [
    {
     "name": "stdout",
     "output_type": "stream",
     "text": [
      "Grafo:\n",
      "{'A': {'C': 8, 'B': 10, 'E': 2}, 'C': {'A': 3, 'B': 4, 'E': 7, 'D': 7}, 'B': {'C': 10, 'E': 5, 'D': 2}, 'E': {'C': 3, 'B': 9, 'D': 10}, 'D': {'A': 10, 'B': 10}}\n",
      "Rutas:\n",
      "[['A'], ['A', 'E', 'C'], ['A', 'E', 'C', 'B'], ['A', 'E'], ['A', 'E', 'C', 'B', 'D'], ['C', 'A'], ['C'], ['C', 'B'], ['C', 'A', 'E'], ['C', 'B', 'D'], ['B', 'E', 'C', 'A'], ['B', 'E', 'C'], ['B'], ['B', 'E'], ['B', 'D'], ['E', 'C', 'A'], ['E', 'C'], ['E', 'C', 'B'], ['E'], ['E', 'C', 'B', 'D'], ['D', 'A'], ['D', 'A', 'E', 'C'], ['D', 'B'], ['D', 'A', 'E'], ['D']]\n"
     ]
    }
   ],
   "source": [
    "g= randGraph(0.7,5,1,10)\n",
    "print \"Grafo:\"\n",
    "print g\n",
    "print \"Rutas:\"\n",
    "print(fullBellmanFord(g))"
   ]
  },
  {
   "cell_type": "markdown",
   "metadata": {},
   "source": [
    "<h3>4. Implementación del algoritmo de BFS para calcular todos los pares de rutas más cortas (asumiendo que la longitud de la ruta esta dada por la cantidad de aristas que interviene más no por su peso)</h3>"
   ]
  },
  {
   "cell_type": "code",
   "execution_count": 8,
   "metadata": {
    "collapsed": false
   },
   "outputs": [],
   "source": [
    "def BFS(graph, start, end):\n",
    "    q = []\n",
    "    v = {}\n",
    "    p = {}\n",
    "    \n",
    "    for n in xrange(len(graph)):\n",
    "        v[n] = False\n",
    "        p[n] = None\n",
    "    \n",
    "    q.append(start)\n",
    "    while len(q) != 0:\n",
    "        current = q.pop(0)\n",
    "        if current == end:\n",
    "            path = [end]\n",
    "            while path[-1] != start:\n",
    "                path.append(p[path[-1]])\n",
    "            path.reverse()\n",
    "            if start!=end:\n",
    "                print start, \"-->\", end, \"saltos:\", len(path)-1, \"camino:\", path\n",
    "            break\n",
    "        for neighbor in graph[current]:\n",
    "            if neighbor not in v:\n",
    "                v[neighbor] = True\n",
    "                p[neighbor] = current\n",
    "                q.append(neighbor)\n",
    "                \n",
    "def BFS_2(graph, start, end):\n",
    "    q = []\n",
    "    v = {}\n",
    "    p = {}\n",
    "    \n",
    "    for n in xrange(len(graph)):\n",
    "        v[n] = False\n",
    "        p[n] = None\n",
    "    \n",
    "    q.append(start)\n",
    "    while len(q) != 0:\n",
    "        current = q.pop(0)\n",
    "        if current == end:\n",
    "            path = [end]\n",
    "            while path[-1] != start:\n",
    "                path.append(p[path[-1]])\n",
    "            path.reverse()\n",
    "            break\n",
    "        for neighbor in graph[current]:\n",
    "            if neighbor not in v:\n",
    "                v[neighbor] = True\n",
    "                p[neighbor] = current\n",
    "                q.append(neighbor)\n",
    "                \n",
    "                \n",
    "def fullBFS(G):\n",
    "    for x in G:\n",
    "        for y in G:\n",
    "            BFS(G,x,y)\n",
    "            \n",
    "def fullBFS_2(G):\n",
    "    for x in G:\n",
    "        for y in G:\n",
    "            BFS_2(G,x,y)##esta versión no imprime, solo calcula"
   ]
  },
  {
   "cell_type": "code",
   "execution_count": 9,
   "metadata": {
    "collapsed": false
   },
   "outputs": [
    {
     "name": "stdout",
     "output_type": "stream",
     "text": [
      "Grafo:\n",
      "{'A': {'C': 7, 'D': 9, 'F': 6}, 'C': {'A': 7, 'E': 9, 'D': 2, 'F': 1}, 'B': {'C': 6, 'E': 6}, 'E': {'D': 10}, 'D': {'A': 2}, 'F': {'C': 2, 'E': 8, 'D': 6}}\n",
      "Rutas:\n",
      "A --> C saltos: 1 camino: ['A', 'C']\n",
      "A --> E saltos: 2 camino: ['A', 'C', 'E']\n",
      "A --> D saltos: 1 camino: ['A', 'D']\n",
      "A --> F saltos: 1 camino: ['A', 'F']\n",
      "C --> A saltos: 1 camino: ['C', 'A']\n",
      "C --> E saltos: 1 camino: ['C', 'E']\n",
      "C --> D saltos: 1 camino: ['C', 'D']\n",
      "C --> F saltos: 1 camino: ['C', 'F']\n",
      "B --> A saltos: 2 camino: ['B', 'C', 'A']\n",
      "B --> C saltos: 1 camino: ['B', 'C']\n",
      "B --> E saltos: 1 camino: ['B', 'E']\n",
      "B --> D saltos: 2 camino: ['B', 'C', 'D']\n",
      "B --> F saltos: 2 camino: ['B', 'C', 'F']\n",
      "E --> A saltos: 2 camino: ['E', 'D', 'A']\n",
      "E --> C saltos: 3 camino: ['E', 'D', 'A', 'C']\n",
      "E --> D saltos: 1 camino: ['E', 'D']\n",
      "E --> F saltos: 3 camino: ['E', 'D', 'A', 'F']\n",
      "D --> A saltos: 1 camino: ['D', 'A']\n",
      "D --> C saltos: 2 camino: ['D', 'A', 'C']\n",
      "D --> E saltos: 3 camino: ['D', 'A', 'C', 'E']\n",
      "D --> F saltos: 2 camino: ['D', 'A', 'F']\n",
      "F --> A saltos: 2 camino: ['F', 'C', 'A']\n",
      "F --> C saltos: 1 camino: ['F', 'C']\n",
      "F --> E saltos: 1 camino: ['F', 'E']\n",
      "F --> D saltos: 1 camino: ['F', 'D']\n"
     ]
    }
   ],
   "source": [
    "g= randGraph(0.4,6,1,10)\n",
    "print \"Grafo:\"\n",
    "print g\n",
    "print \"Rutas:\"\n",
    "fullBFS(g)"
   ]
  },
  {
   "cell_type": "markdown",
   "metadata": {},
   "source": [
    "<h3>5. Comparación experimental de los algoritmos incluyendo Floyd-Warshall para grafos aleatorios densos ($\\psi$ cercano a 1) variando linealmente los tamaños de $n$</h3>"
   ]
  },
  {
   "cell_type": "code",
   "execution_count": 10,
   "metadata": {
    "collapsed": true
   },
   "outputs": [],
   "source": [
    "def comp_densos(n):\n",
    "    Dijsktra = []\n",
    "    Bellman = []\n",
    "    Floyd = []\n",
    "    Bfs = []\n",
    "    for i in range(4,n+4):\n",
    "\n",
    "        g = randGraph(0.85,i,1,10)       #Se asumen grafos densos aquellos con un 85% de aristas\n",
    "        \n",
    "        tic = time.clock()\n",
    "        fullDijkstra(g)\n",
    "        toc = time.clock()\n",
    "        Dijsktra.append(toc - tic)\n",
    "        \n",
    "        tic = time.clock()\n",
    "        fullBellmanFord(g)\n",
    "        toc = time.clock()\n",
    "        Bellman.append(toc - tic)\n",
    "        \n",
    "        tic = time.clock()\n",
    "        FloydWarshall(graphToMatrix(g))\n",
    "        toc = time.clock()\n",
    "        Floyd.append(toc - tic)\n",
    "        \n",
    "        tic = time.clock()\n",
    "        fullBFS_2(g)\n",
    "        toc = time.clock()\n",
    "        Bfs.append(toc - tic)\n",
    "                \n",
    "    res = [Dijsktra, Bellman, Floyd, Bfs]    \n",
    "    return res"
   ]
  },
  {
   "cell_type": "code",
   "execution_count": 11,
   "metadata": {
    "collapsed": false
   },
   "outputs": [
    {
     "data": {
      "text/plain": [
       "[<matplotlib.lines.Line2D at 0x7c2a080>,\n",
       " <matplotlib.lines.Line2D at 0x7953208>,\n",
       " <matplotlib.lines.Line2D at 0x7c2a828>,\n",
       " <matplotlib.lines.Line2D at 0x7c2ada0>]"
      ]
     },
     "execution_count": 11,
     "metadata": {},
     "output_type": "execute_result"
    },
    {
     "data": {
      "image/png": "[encoded data removed]",
      "text/plain": [
       "<matplotlib.figure.Figure at 0x6f8cf98>"
      ]
     },
     "metadata": {},
     "output_type": "display_data"
    }
   ],
   "source": [
    "x = np.arange(30)\n",
    "y = comp_densos(30)\n",
    "a = np.array(y[0])          \n",
    "b = np.array(y[1])           \n",
    "c = np.array(y[2])            \n",
    "d = np.array(y[3])        \n",
    "plt.plot(x, a, 'k', b, 'r', c, 'b', d, 'g') #Dijstra negro, bellman rojo, floyd azul, bfs verde"
   ]
  },
  {
   "cell_type": "markdown",
   "metadata": {},
   "source": [
    "<h3>6. Compare experimental de los algoritmos incluyendo Floyd-Warshall para grafos aleatorios dispersos ($\\psi$ cercano a 0) variando linealmente los tamaños de $n$</h3>"
   ]
  },
  {
   "cell_type": "code",
   "execution_count": 12,
   "metadata": {
    "collapsed": true
   },
   "outputs": [],
   "source": [
    "def comp_dispersos(n):\n",
    "    Dijsktra = []\n",
    "    Bellman = []\n",
    "    Floyd = []\n",
    "    Bfs = []\n",
    "    for i in range(2,n+2):\n",
    "\n",
    "        g = randGraph(0.2,i,2,20)       #Se asumen grafos densos aquellos con un 20% de aristas\n",
    "        \n",
    "        tic = time.clock()\n",
    "        try:\n",
    "            fullDijkstra(g)\n",
    "        except:\n",
    "            toc = time.clock()\n",
    "        toc = time.clock()\n",
    "        Dijsktra.append(toc - tic)\n",
    "        \n",
    "        tic = time.clock()\n",
    "        try:\n",
    "            fullBellmanFord(g)\n",
    "        except:\n",
    "            toc = time.clock()\n",
    "        toc = time.clock()\n",
    "        Bellman.append(toc - tic)        \n",
    "        \n",
    "        tic = time.clock()\n",
    "        FloydWarshall(graphToMatrix(g))\n",
    "        toc = time.clock()\n",
    "        Floyd.append(toc - tic)\n",
    "        \n",
    "        tic = time.clock()\n",
    "        fullBFS_2(g)\n",
    "        toc = time.clock()\n",
    "        Bfs.append(toc - tic)\n",
    "                \n",
    "    res = [Dijsktra, Bellman, Floyd, Bfs]    \n",
    "    return res"
   ]
  },
  {
   "cell_type": "code",
   "execution_count": 13,
   "metadata": {
    "collapsed": false
   },
   "outputs": [
    {
     "data": {
      "text/plain": [
       "[<matplotlib.lines.Line2D at 0x7e7cdd8>,\n",
       " <matplotlib.lines.Line2D at 0x7e7cf98>,\n",
       " <matplotlib.lines.Line2D at 0x7afb828>,\n",
       " <matplotlib.lines.Line2D at 0x7afb668>]"
      ]
     },
     "execution_count": 13,
     "metadata": {},
     "output_type": "execute_result"
    },
    {
     "data": {
      "image/png": "[encoded data removed]",
      "text/plain": [
       "<matplotlib.figure.Figure at 0x7a6d208>"
      ]
     },
     "metadata": {},
     "output_type": "display_data"
    }
   ],
   "source": [
    "x = np.arange(30)\n",
    "y = comp_dispersos(30)\n",
    "a = np.array(y[0])          \n",
    "b = np.array(y[1])           \n",
    "c = np.array(y[2])            \n",
    "d = np.array(y[3])        \n",
    "plt.plot(x, a, 'k', b, 'r', c, 'b', d, 'g') #Dijstra negro, bellman rojo, floyd azul, bfs verde"
   ]
  }
 ],
 "metadata": {
  "kernelspec": {
   "display_name": "Python 2",
   "language": "python",
   "name": "python2"
  },
  "language_info": {
   "codemirror_mode": {
    "name": "ipython",
    "version": 2
   },
   "file_extension": ".py",
   "mimetype": "text/x-python",
   "name": "python",
   "nbconvert_exporter": "python",
   "pygments_lexer": "ipython2",
   "version": "2.7.13"
  }
 },
 "nbformat": 4,
 "nbformat_minor": 1
}
