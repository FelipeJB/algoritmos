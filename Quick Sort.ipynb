{
 "cells": [
  {
   "cell_type": "markdown",
   "metadata": {},
   "source": [
    "<h1>Análisando algoritmos de ordenamiento</h1>"
   ]
  },
  {
   "cell_type": "code",
   "execution_count": 1,
   "metadata": {
    "collapsed": true
   },
   "outputs": [],
   "source": [
    "import math\n",
    "import numpy as np\n",
    "import pylab as pl\n",
    "%matplotlib inline\n"
   ]
  },
  {
   "cell_type": "markdown",
   "metadata": {},
   "source": [
    "<h2>Problema de ordenamiento</h2>\n",
    "\n",
    "Input:  $A[1..n] = <a_1,a_2\\ldots, a_n>$\n",
    "\n",
    "Output: $A'[1..n] = <a'_1,a'_2\\ldots, a'_n> : a'_1\\leq a'_2 \\leq \\ldots \\leq  a'_n$"
   ]
  },
  {
   "cell_type": "markdown",
   "metadata": {},
   "source": [
    "<h3> Ordenamiento rápido </h3>"
   ]
  },
  {
   "cell_type": "code",
   "execution_count": 2,
   "metadata": {
    "collapsed": false
   },
   "outputs": [],
   "source": [
    "def quick_sort(L, first, last):\n",
    "    i = first\n",
    "    j = last    \n",
    "    pivote = (L[i] + L[j]) / 2\n",
    "\n",
    "    while i < j:\n",
    "        while L[i] < pivote:\n",
    "            i+=1\n",
    "        while L[j] > pivote:\n",
    "            j-=1\n",
    "        if i <= j:\n",
    "            x = L[j]\n",
    "            L[j] = L[i]\n",
    "            L[i] = x\n",
    "            i+=1\n",
    "            j-=1\n",
    "    if first < j:\n",
    "        L = quick_sort(L, first, j)\n",
    "    if last > i:\n",
    "        L = quick_sort(L, i, last)\n",
    "    return L"
   ]
  },
  {
   "cell_type": "code",
   "execution_count": 3,
   "metadata": {
    "collapsed": false
   },
   "outputs": [
    {
     "name": "stdout",
     "output_type": "stream",
     "text": [
      "[7 5 1 8 3 6 0 9 4 2]\n",
      "[0 1 2 3 4 5 6 7 8 9]\n"
     ]
    }
   ],
   "source": [
    "B = np.random.permutation(range(0,10))\n",
    "print B\n",
    "print quick_sort(B,0,len(B)-1)"
   ]
  },
  {
   "cell_type": "markdown",
   "metadata": {},
   "source": [
    "<h4>Correctitud</h4>\n",
    "\n",
    "<b>Invariante:</b> Al comienzo de cada iteración del ciclo (justo antes de cambiar de pivote) externo el subarreglo $A[0..i]$ tendrá todos sus elementos menores o iguales al pivote, mientras que el subarreglo $A[i+1...j-1]$ tendrá todos sus elementos mayores o iguales al pivote."
   ]
  },
  {
   "cell_type": "code",
   "execution_count": 4,
   "metadata": {
    "collapsed": true
   },
   "outputs": [],
   "source": [
    "def invariant(A,B,p):\n",
    "    l1 = list(A)\n",
    "    l2 = list(B)\n",
    "    s1= len(A)\n",
    "    s2= len(B)\n",
    "    f1=True\n",
    "    f2=True\n",
    "    \n",
    "    for i in range(s1):\n",
    "          if p<A[i]:\n",
    "            f1=False\n",
    "            \n",
    "    for j in range(s2):\n",
    "          if p>B[j]:\n",
    "            f1=False\n",
    "\n",
    "    return f1 == f2 ==True"
   ]
  },
  {
   "cell_type": "code",
   "execution_count": 5,
   "metadata": {
    "collapsed": false
   },
   "outputs": [
    {
     "name": "stdout",
     "output_type": "stream",
     "text": [
      "True\n",
      "False\n"
     ]
    }
   ],
   "source": [
    "print invariant([1, 2, 3, 4], [5, 6, 7, 8], 5)\n",
    "print invariant([1, 2, 3, 4], [5, 3, 2, 1], 4)"
   ]
  },
  {
   "cell_type": "markdown",
   "metadata": {},
   "source": [
    "Algoritmo de ordenamiento rápido incluyendo evaluación de la invariante (inicialización, mantenimiento, terminación)"
   ]
  },
  {
   "cell_type": "code",
   "execution_count": 6,
   "metadata": {
    "collapsed": false
   },
   "outputs": [],
   "source": [
    "def right_quick_sort(L, first, last):\n",
    "    i = first\n",
    "    j = last    \n",
    "    pivote = (L[i] + L[j]) / 2\n",
    "    \n",
    "    while i < j:\n",
    "        \n",
    "        while L[i] < pivote:\n",
    "            i+=1\n",
    "        while L[j] > pivote:\n",
    "            j-=1\n",
    "        \n",
    "        if i <= j:\n",
    "            x = L[j]\n",
    "            L[j] = L[i]\n",
    "            L[i] = x\n",
    "            i+=1\n",
    "            j-=1\n",
    "        \n",
    "    \n",
    "    assert invariant(L[0:i], L[i+1:],pivote)    \n",
    "    if first < j:\n",
    "        L = right_quick_sort(L, first, j)\n",
    "        \n",
    "    \n",
    "    if last > i:\n",
    "        L = right_quick_sort(L, i, last)\n",
    "        \n",
    "   \n",
    "\n",
    "    return L\n",
    "    "
   ]
  },
  {
   "cell_type": "code",
   "execution_count": 7,
   "metadata": {
    "collapsed": false
   },
   "outputs": [
    {
     "name": "stdout",
     "output_type": "stream",
     "text": [
      "[1, 2, 3, 4, 5, 6, 7, 8, 9]\n"
     ]
    }
   ],
   "source": [
    "B = [5, 4, 6, 3, 7, 2, 8, 1, 9]\n",
    "right_quick_sort(B,0,len(B)-1)\n",
    "print B"
   ]
  },
  {
   "cell_type": "markdown",
   "metadata": {},
   "source": [
    "La siguiente función incluye un error, por lo tanto la aserción para comprobar el invariante de ciclo falla. Esto genera una excepción que es capturada para imprimir un mensaje y el estado de las variables."
   ]
  },
  {
   "cell_type": "code",
   "execution_count": 8,
   "metadata": {
    "collapsed": false
   },
   "outputs": [],
   "source": [
    "def wrong_quick_sort(L, first, last):\n",
    "    i = first\n",
    "    j = last    \n",
    "    pivote = (L[i] + L[j]) / 2\n",
    "    try:\n",
    "        while i < j:\n",
    "        \n",
    "            while L[i] < pivote:\n",
    "                i+=1\n",
    "            while L[j] > pivote:\n",
    "                j-=1\n",
    "        \n",
    "            if i <= j:\n",
    "                x = L[j]\n",
    "                L[j] = L[i+1]\n",
    "                L[i] = x\n",
    "                i+=1\n",
    "                j-=1\n",
    "        \n",
    "    \n",
    "        assert invariant(L[0:i], L[i+1:],pivote)    \n",
    "        if first < j:\n",
    "            L = wrong_quick_sort(L, first, j)\n",
    "        \n",
    "    \n",
    "        if last > i:\n",
    "            L = wrong_quick_sort(L, i, last)\n",
    "        \n",
    "   \n",
    "\n",
    "        return L\n",
    "    \n",
    "    except  AssertionError:\n",
    "        print \"Error en el invariante de ciclo!\"\n",
    "        print \"L[0:i]=\", L[0:i]\n",
    "        print \"L[i+1:]=\", L[i+1:]\n",
    "        print \"L[i]=\", L[i]\n",
    "        print \"L[j]=\", L[j]\n",
    "        print \"pivote=\", pivote\n",
    "    \n",
    "        "
   ]
  },
  {
   "cell_type": "code",
   "execution_count": 9,
   "metadata": {
    "collapsed": false
   },
   "outputs": [
    {
     "name": "stdout",
     "output_type": "stream",
     "text": [
      "Error en el invariante de ciclo!\n",
      "L[0:i]= [5, 4, 6, 3, 1, 2]\n",
      "L[i+1:]= [2, 9]\n",
      "L[i]= 8\n",
      "L[j]= 2\n",
      "pivote= 7\n"
     ]
    }
   ],
   "source": [
    "B = [5, 4, 6, 3, 7, 2, 8, 1, 9]\n",
    "wrong_quick_sort(B,0,len(B)-1)"
   ]
  },
  {
   "cell_type": "markdown",
   "metadata": {},
   "source": [
    "<h4> Análisis del tiempo de ejecución</h4>"
   ]
  },
  {
   "cell_type": "code",
   "execution_count": 10,
   "metadata": {
    "collapsed": true
   },
   "outputs": [],
   "source": [
    "class Counter:\n",
    "    '''\n",
    "    Class Counter\n",
    "    Implements a step counter, which is used to compute the number of basic operations performed in\n",
    "    a particular call to a function.\n",
    "    '''\n",
    "    def __init__(self):\n",
    "        self.steps = 0\n",
    "\n",
    "    def reset(self):\n",
    "        self.steps = 0\n",
    "\n",
    "    def count(self):\n",
    "        self.steps += 1\n",
    "\n",
    "    def print_steps(self):\n",
    "        print \"Number of steps =\", self.steps\n",
    "        \n",
    "def acct_quick_sort(L, first, last, acct):\n",
    "    i = first; acct.count()\n",
    "    j = last    ; acct.count()\n",
    "    pivote = (L[i] + L[j]) / 2; acct.count()\n",
    "    acct.count()\n",
    "    while i < j:\n",
    "        acct.count()\n",
    "        while L[i] < pivote:\n",
    "            acct.count()\n",
    "            i+=1; acct.count()\n",
    "        acct.count()\n",
    "        while L[j] > pivote:\n",
    "            acct.count()\n",
    "            j-=1; acct.count()\n",
    "        acct.count()\n",
    "        if i <= j:\n",
    "            acct.count()\n",
    "            x = L[j]; acct.count()\n",
    "            L[j] = L[i]; acct.count()\n",
    "            L[i] = x; acct.count()\n",
    "            i+=1; acct.count()\n",
    "            j-=1; acct.count()\n",
    "            acct.count()\n",
    "    if first < j:\n",
    "        acct.count()\n",
    "        L = acct_quick_sort(L, first, j, acct); acct.count()\n",
    "        acct.count()\n",
    "    if last > i:\n",
    "        acct.count()\n",
    "        L = acct_quick_sort(L, i, last, acct); acct.count()\n",
    "        acct.count()\n",
    "    acct.count()\n",
    "    return L"
   ]
  },
  {
   "cell_type": "code",
   "execution_count": 11,
   "metadata": {
    "collapsed": false
   },
   "outputs": [
    {
     "name": "stdout",
     "output_type": "stream",
     "text": [
      "Number of steps = 220\n"
     ]
    }
   ],
   "source": [
    "B = np.random.permutation(range(0,10))\n",
    "acct = Counter()\n",
    "acct_quick_sort(B, 0, len(B)-1, acct)\n",
    "acct.print_steps()"
   ]
  },
  {
   "cell_type": "markdown",
   "metadata": {},
   "source": [
    "<h4>Análisis experimental</h4>\n",
    "Ahora vamos a analizar el comportamiento del algoritmo cuando el tamaño de la entrada varía. La siguiente función genera arreglos al azar de tamaño 1 a n, llama la función acct_quick_sort(l, 0, len(l)-1, acct) y contabiliza el número de pasos."
   ]
  },
  {
   "cell_type": "code",
   "execution_count": 12,
   "metadata": {
    "collapsed": false
   },
   "outputs": [],
   "source": [
    "import random as rnd\n",
    "import time\n",
    "\n",
    "def exper_analysis(n):\n",
    "    analysis= []\n",
    "    results = []\n",
    "    tiempo = []\n",
    "    acct = Counter()\n",
    "    for i in range(n):\n",
    "        tic = time.clock()#get start time\n",
    "        l = range(i+1)\n",
    "        rnd.shuffle(l)        \n",
    "        acct.reset()\n",
    "        acct_quick_sort(l, 0, len(l)-1, acct)\n",
    "        results.append(acct.steps)\n",
    "        toc = time.clock()#get final time\n",
    "        tiempo.append(toc-tic)\n",
    "    analysis.append(results)\n",
    "    analysis.append(tiempo)\n",
    "    return analysis"
   ]
  },
  {
   "cell_type": "code",
   "execution_count": 13,
   "metadata": {
    "collapsed": false
   },
   "outputs": [
    {
     "name": "stdout",
     "output_type": "stream",
     "text": [
      "[[5, 15, 19, 41, 87, 103, 159, 157, 178, 248], [2.2942274219343838e-05, 2.2036658131738164e-05, 1.5999217547700307e-05, 3.62246435042271e-05, 7.003431077483909e-05, 0.00010867393051268133, 0.00016512399997343526, 9.659904934460566e-05, 0.00010324023398704729, 0.00013765364531606301]]\n"
     ]
    }
   ],
   "source": [
    "print (exper_analysis(10))"
   ]
  },
  {
   "cell_type": "code",
   "execution_count": 14,
   "metadata": {
    "collapsed": false
   },
   "outputs": [
    {
     "data": {
      "text/plain": [
       "[<matplotlib.lines.Line2D at 0x7950518>]"
      ]
     },
     "execution_count": 14,
     "metadata": {},
     "output_type": "execute_result"
    },
    {
     "data": {
      "image/png": "[encoded data removed]",
      "text/plain": [
       "<matplotlib.figure.Figure at 0x7d1d048>"
      ]
     },
     "metadata": {},
     "output_type": "display_data"
    }
   ],
   "source": [
    "pl.clf()\n",
    "x = np.arange(100)\n",
    "y = np.array(exper_analysis(100)[0])\n",
    "pl.plot(x, y, 'k.')"
   ]
  },
  {
   "cell_type": "markdown",
   "metadata": {},
   "source": [
    "<b>Análisis de Tiempo </b>\n",
    " \n",
    "  <p>A continuación se representa en una gráfica el número de operaciones (negro), tiempo(rojo) y T(n)(azul) que el algoritmo de ordenamiento por inserción requiere para ordenar arreglos de tamaño n (variando n) en el peor de los casos.</p>\n",
    "  "
   ]
  },
  {
   "cell_type": "code",
   "execution_count": 15,
   "metadata": {
    "collapsed": false
   },
   "outputs": [
    {
     "data": {
      "text/plain": [
       "[<matplotlib.lines.Line2D at 0x7e80b00>,\n",
       " <matplotlib.lines.Line2D at 0x7e80be0>,\n",
       " <matplotlib.lines.Line2D at 0x7e902e8>,\n",
       " <matplotlib.lines.Line2D at 0x7e90860>]"
      ]
     },
     "execution_count": 15,
     "metadata": {},
     "output_type": "execute_result"
    },
    {
     "data": {
      "image/png": "[encoded data removed]",
      "text/plain": [
       "<matplotlib.figure.Figure at 0x7df57b8>"
      ]
     },
     "metadata": {},
     "output_type": "display_data"
    }
   ],
   "source": [
    "pl.clf()\n",
    "resultados= []\n",
    "ti=[]\n",
    "ti2=[]\n",
    "x = np.arange(100)\n",
    "resultados = np.array(exper_analysis(100))\n",
    "y = np.array(resultados[0])\n",
    "t = np.array(resultados[1]*1000000)\n",
    "for i in range(100):\n",
    "    ti.append(i*math.log(i+1))\n",
    "for i in range(100):\n",
    "    ti2.append(i*i)\n",
    "pl.plot(x, y,'k.', t, 'r', ti, 'b', ti2, 'b')"
   ]
  }
 ],
 "metadata": {
  "anaconda-cloud": {},
  "kernelspec": {
   "display_name": "Python 2",
   "language": "python",
   "name": "python2"
  },
  "language_info": {
   "codemirror_mode": {
    "name": "ipython",
    "version": 2
   },
   "file_extension": ".py",
   "mimetype": "text/x-python",
   "name": "python",
   "nbconvert_exporter": "python",
   "pygments_lexer": "ipython2",
   "version": "2.7.13"
  }
 },
 "nbformat": 4,
 "nbformat_minor": 0
}
