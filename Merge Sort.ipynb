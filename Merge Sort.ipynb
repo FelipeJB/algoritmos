{
 "cells": [
  {
   "cell_type": "markdown",
   "metadata": {},
   "source": [
    "<h1>Análisando algoritmos de ordenamiento</h1>"
   ]
  },
  {
   "cell_type": "code",
   "execution_count": 1,
   "metadata": {
    "collapsed": true
   },
   "outputs": [],
   "source": [
    "import math\n",
    "import numpy as np\n",
    "import pylab as pl\n",
    "%matplotlib inline"
   ]
  },
  {
   "cell_type": "markdown",
   "metadata": {},
   "source": [
    "<h2>Problema de ordenamiento</h2>\n",
    "\n",
    "Input:  $A[1..n] = <a_1,a_2\\ldots, a_n>$\n",
    "\n",
    "Output: $A'[1..n] = <a'_1,a'_2\\ldots, a'_n> : a'_1\\leq a'_2 \\leq \\ldots \\leq  a'_n$"
   ]
  },
  {
   "cell_type": "markdown",
   "metadata": {},
   "source": [
    "<h3> Ordenamiento por mezcla </h3>"
   ]
  },
  {
   "cell_type": "code",
   "execution_count": 2,
   "metadata": {
    "collapsed": true
   },
   "outputs": [],
   "source": [
    "def merge_sort(A): \n",
    "\n",
    "    n = len(A) \n",
    "    if(n == 1): return A\n",
    " \n",
    "    left = merge_sort(A[:(n/2)]) \n",
    "    right = merge_sort(A[(n/2):]) \n",
    " \n",
    "    return merge(left, right) \n",
    " \n",
    "def merge(left, right): \n",
    " \n",
    "    result = [] \n",
    "    i = 0 \n",
    "    j = 0 \n",
    "    len_left = len(left) \n",
    "    len_right = len(right) \n",
    " \n",
    "    while(i < len_left or j < len_right): \n",
    "        if(i >= len_left): \n",
    "            result.append(right[j]) \n",
    "            j = j + 1 \n",
    "        elif(j >= len_right): \n",
    "            result.append(left[i]) \n",
    "            i = i + 1 \n",
    "        elif(left[i] < right[j]): \n",
    "            result.append(left[i]) \n",
    "            i = i + 1 \n",
    "        else: \n",
    "            result.append(right[j]) \n",
    "            j = j + 1 \n",
    " \n",
    "    return result "
   ]
  },
  {
   "cell_type": "code",
   "execution_count": 3,
   "metadata": {
    "collapsed": false
   },
   "outputs": [
    {
     "name": "stdout",
     "output_type": "stream",
     "text": [
      "[3 4 7 6 0 9 8 2 5 1]\n",
      "[0, 1, 2, 3, 4, 5, 6, 7, 8, 9]\n"
     ]
    }
   ],
   "source": [
    "B = np.random.permutation(range(0,10))\n",
    "print (B)\n",
    "print (merge_sort(B))"
   ]
  },
  {
   "cell_type": "markdown",
   "metadata": {},
   "source": [
    "<h4>Correctitud</h4>\n",
    "\n",
    "<b>Invariante:</b> Una vez se ha dividido el arreglo en $N$ partes, cada subarreglo que se cree hasta que se retorne el arreglo ordenado, deberá estar ordenado. "
   ]
  },
  {
   "cell_type": "code",
   "execution_count": 4,
   "metadata": {
    "collapsed": true
   },
   "outputs": [],
   "source": [
    "def invariant(A):\n",
    "    l1 = list(A)\n",
    "    l2 = list(A)\n",
    "    l2.sort()\n",
    "    return l1 == l2"
   ]
  },
  {
   "cell_type": "code",
   "execution_count": 5,
   "metadata": {
    "collapsed": false
   },
   "outputs": [
    {
     "name": "stdout",
     "output_type": "stream",
     "text": [
      "True\n",
      "False\n"
     ]
    }
   ],
   "source": [
    "print (invariant([1, 2, 3, 4]))\n",
    "print (invariant([1, 3, 2, 4]))"
   ]
  },
  {
   "cell_type": "markdown",
   "metadata": {},
   "source": [
    "Algoritmo de ordenamiento por mezcla incluyendo evaluación de la invariante (inicialización, mantenimiento, terminación)"
   ]
  },
  {
   "cell_type": "code",
   "execution_count": 6,
   "metadata": {
    "collapsed": true
   },
   "outputs": [],
   "source": [
    "def right_merge_sort(A): \n",
    "\n",
    "    n = len(A) \n",
    "    if(n == 1): return A\n",
    " \n",
    "    left = right_merge_sort(A[:(n/2)]) \n",
    "    right = right_merge_sort(A[(n/2):]) \n",
    " \n",
    "    return right_merge(left, right) \n",
    " \n",
    "def right_merge(left, right): \n",
    " \n",
    "    result = [] \n",
    "    i = 0 \n",
    "    j = 0 \n",
    "    len_left = len(left) \n",
    "    len_right = len(right) \n",
    " \n",
    "    while(i < len_left or j < len_right): \n",
    "        if(i >= len_left): \n",
    "            result.append(right[j]) \n",
    "            j = j + 1 \n",
    "        elif(j >= len_right): \n",
    "            result.append(left[i]) \n",
    "            i = i + 1 \n",
    "        elif(left[i] < right[j]): \n",
    "            result.append(left[i]) \n",
    "            i = i + 1 \n",
    "        else: \n",
    "            result.append(right[j]) \n",
    "            j = j + 1 \n",
    "    assert invariant(result)\n",
    "    return result "
   ]
  },
  {
   "cell_type": "code",
   "execution_count": 7,
   "metadata": {
    "collapsed": false
   },
   "outputs": [
    {
     "name": "stdout",
     "output_type": "stream",
     "text": [
      "[1, 2, 3, 4, 5, 6, 7, 8, 9]\n"
     ]
    }
   ],
   "source": [
    "B = [5, 4, 6, 3, 7, 2, 8, 1, 9]\n",
    "print right_merge_sort(B)"
   ]
  },
  {
   "cell_type": "markdown",
   "metadata": {},
   "source": [
    "La siguiente función incluye un error, por lo tanto la aserción para comprobar el invariante de ciclo falla. Esto genera una excepción que es capturada para imprimir un mensaje y el estado de las variables."
   ]
  },
  {
   "cell_type": "code",
   "execution_count": 8,
   "metadata": {
    "collapsed": false
   },
   "outputs": [],
   "source": [
    "def wrong_merge_sort(A): \n",
    "\n",
    "    n = len(A) \n",
    "    if(n == 1): return A\n",
    " \n",
    "    left = wrong_merge_sort(A[:(n/2)]) \n",
    "    right = wrong_merge_sort(A[(n/2):]) \n",
    " \n",
    "    return wrong_merge(left, right) \n",
    " \n",
    "def wrong_merge(left, right): \n",
    "    try:        \n",
    "        result = [] \n",
    "        i = 0 \n",
    "        j = 0\n",
    "    \n",
    " \n",
    "        result.append(right)\n",
    "        result.append(left)\n",
    "        \n",
    "        assert invariant(result)\n",
    "        return result \n",
    "\n",
    "    except  AssertionError:\n",
    "        print \"Error en el invariante de ciclo!\"\n",
    "        print \"j=\", j\n",
    "        print \"i=\", i\n",
    "        print \"sub arreglo que falla=\", result\n",
    "        \n",
    "        "
   ]
  },
  {
   "cell_type": "code",
   "execution_count": 9,
   "metadata": {
    "collapsed": false
   },
   "outputs": [
    {
     "name": "stdout",
     "output_type": "stream",
     "text": [
      "Error en el invariante de ciclo!\n",
      "j= 0\n",
      "i= 0\n",
      "sub arreglo que falla= [[9], [1]]\n"
     ]
    },
    {
     "data": {
      "text/plain": [
       "[[[None, [8]], [[2], [7]]], [[[3], [6]], [[4], [5]]]]"
      ]
     },
     "execution_count": 9,
     "metadata": {},
     "output_type": "execute_result"
    }
   ],
   "source": [
    "B = [5, 4, 6, 3, 7, 2, 8, 1, 9]\n",
    "wrong_merge_sort(B)"
   ]
  },
  {
   "cell_type": "markdown",
   "metadata": {},
   "source": [
    "<h4> Análisis del tiempo de ejecución</h4>"
   ]
  },
  {
   "cell_type": "code",
   "execution_count": 10,
   "metadata": {
    "collapsed": false
   },
   "outputs": [],
   "source": [
    "class Counter:\n",
    "    '''\n",
    "    Class Counter\n",
    "    Implements a step counter, which is used to compute the number of basic operations performed in\n",
    "    a particular call to a function.\n",
    "    '''\n",
    "    def __init__(self):\n",
    "        self.steps = 0\n",
    "\n",
    "    def reset(self):\n",
    "        self.steps = 0\n",
    "\n",
    "    def count(self):\n",
    "        self.steps += 1\n",
    "\n",
    "    def print_steps(self):\n",
    "        print \"Number of steps =\", self.steps\n",
    "        \n",
    "def acct_merge_sort(A, acct): \n",
    "    n = len(A); acct.count()\n",
    "    acct.count()\n",
    "    acct.count()\n",
    "    if(n == 1): return A; acct.count() \n",
    "    left = acct_merge_sort(A[:(n/2)], acct); acct.count()\n",
    "    right = acct_merge_sort(A[(n/2):], acct); acct.count()\n",
    "    acct.count()\n",
    "    return acct_merge(left, right) \n",
    " \n",
    "def acct_merge(left, right): \n",
    " \n",
    "    result = [];acct.count()\n",
    "    i = 0 ;acct.count()\n",
    "    j = 0 ;acct.count()\n",
    "    len_left = len(left) ;acct.count()\n",
    "    len_right = len(right); acct.count()\n",
    "    acct.count()\n",
    "    while(i < len_left or j < len_right):\n",
    "        acct.count()\n",
    "        acct.count()\n",
    "        if(i >= len_left): \n",
    "            acct.count()\n",
    "            result.append(right[j]); acct.count()\n",
    "            j = j + 1 ;acct.count()\n",
    "        elif(j >= len_right): \n",
    "            acct.count()\n",
    "            result.append(left[i]);acct.count() \n",
    "            i = i + 1 ;acct.count()\n",
    "        elif(left[i] < right[j]): \n",
    "            acct.count()\n",
    "            result.append(left[i]) ;acct.count()\n",
    "            i = i + 1 ;acct.count()\n",
    "        else: \n",
    "            acct.count()\n",
    "            result.append(right[j]); acct.count()\n",
    "            j = j + 1 ;acct.count()\n",
    "    acct.count()\n",
    "    return result "
   ]
  },
  {
   "cell_type": "code",
   "execution_count": 11,
   "metadata": {
    "collapsed": false
   },
   "outputs": [
    {
     "name": "stdout",
     "output_type": "stream",
     "text": [
      "Number of steps = 317\n"
     ]
    }
   ],
   "source": [
    "B = np.random.permutation(range(0,10))\n",
    "acct = Counter()\n",
    "acct_merge_sort(B, acct)\n",
    "acct.print_steps()"
   ]
  },
  {
   "cell_type": "markdown",
   "metadata": {},
   "source": [
    "<h4>Análisis experimental</h4>\n",
    "Ahora vamos a analizar el comportamiento del algoritmo cuando el tamaño de la entrada varía. La siguiente función genera arreglos al azar de tamaño 1 a n, llama la función acct_merge_sort(l, acct) y contabiliza el número de pasos."
   ]
  },
  {
   "cell_type": "code",
   "execution_count": 12,
   "metadata": {
    "collapsed": false
   },
   "outputs": [],
   "source": [
    "import random as rnd\n",
    "import time\n",
    "\n",
    "def exper_analysis(n):\n",
    "    analysis= []\n",
    "    results = []\n",
    "    tiempo = []\n",
    "    acct = Counter()\n",
    "    for i in range(n):\n",
    "        tic = time.clock()#get start time\n",
    "        l = np.random.permutation(range(0,1+i))        \n",
    "        acct.reset()\n",
    "        acct_merge_sort(l, acct)\n",
    "        results.append(acct.steps)\n",
    "        toc = time.clock()#get final time\n",
    "        tiempo.append(toc-tic)\n",
    "    analysis.append(results)\n",
    "    analysis.append(tiempo)\n",
    "    return analysis"
   ]
  },
  {
   "cell_type": "code",
   "execution_count": 13,
   "metadata": {
    "collapsed": false
   },
   "outputs": [
    {
     "name": "stdout",
     "output_type": "stream",
     "text": [
      "[[3, 12, 21, 30, 39, 48, 57, 66, 75, 84], [0.000143389213870899, 0.00010505146616225864, 0.00012316378791437217, 0.00014942665445493683, 0.0001904812504263943, 0.00022761151001822705, 0.0006031403143453815, 0.00040209354289692106, 0.0003800568847651827, 0.00040843285551016035]]\n"
     ]
    }
   ],
   "source": [
    "print (exper_analysis(10))"
   ]
  },
  {
   "cell_type": "code",
   "execution_count": 14,
   "metadata": {
    "collapsed": false
   },
   "outputs": [
    {
     "data": {
      "text/plain": [
       "[<matplotlib.lines.Line2D at 0x7ded0b8>]"
      ]
     },
     "execution_count": 14,
     "metadata": {},
     "output_type": "execute_result"
    },
    {
     "data": {
      "image/png": "[encoded data removed]",
      "text/plain": [
       "<matplotlib.figure.Figure at 0x4aeb2b0>"
      ]
     },
     "metadata": {},
     "output_type": "display_data"
    }
   ],
   "source": [
    "pl.clf()\n",
    "x = np.arange(100)\n",
    "y = np.array(exper_analysis(100)[0])\n",
    "pl.plot(x, y, 'k.')"
   ]
  },
  {
   "cell_type": "markdown",
   "metadata": {},
   "source": [
    "<b>Análisis de Tiempo </b>\n",
    " \n",
    "  <p>A continuación se representa en una gráfica el número de operaciones (negro), tiempo(rojo) y T(n)(azul) que el algoritmo de ordenamiento por inserción requiere para ordenar arreglos de tamaño n (variando n) en el peor de los casos.</p>\n",
    "  "
   ]
  },
  {
   "cell_type": "code",
   "execution_count": 15,
   "metadata": {
    "collapsed": false
   },
   "outputs": [
    {
     "data": {
      "text/plain": [
       "[<matplotlib.lines.Line2D at 0x7fd64a8>,\n",
       " <matplotlib.lines.Line2D at 0x7fd6588>,\n",
       " <matplotlib.lines.Line2D at 0x7fd6c50>]"
      ]
     },
     "execution_count": 15,
     "metadata": {},
     "output_type": "execute_result"
    },
    {
     "data": {
      "image/png": "[encoded data removed]",
      "text/plain": [
       "<matplotlib.figure.Figure at 0x7e13080>"
      ]
     },
     "metadata": {},
     "output_type": "display_data"
    }
   ],
   "source": [
    "pl.clf()\n",
    "resultados= []\n",
    "ti=[]\n",
    "x = np.arange(100)\n",
    "resultados = np.array(exper_analysis(100))\n",
    "y = np.array(resultados[0])\n",
    "t = np.array(resultados[1]*1000000)\n",
    "for i in range(100):\n",
    "    ti.append((i+1)*(math.log(i+1)))\n",
    "pl.plot(x, y,'k.', t, 'r', ti, 'b')"
   ]
  }
 ],
 "metadata": {
  "anaconda-cloud": {},
  "kernelspec": {
   "display_name": "Python 2",
   "language": "python",
   "name": "python2"
  },
  "language_info": {
   "codemirror_mode": {
    "name": "ipython",
    "version": 2
   },
   "file_extension": ".py",
   "mimetype": "text/x-python",
   "name": "python",
   "nbconvert_exporter": "python",
   "pygments_lexer": "ipython2",
   "version": "2.7.13"
  }
 },
 "nbformat": 4,
 "nbformat_minor": 0
}
