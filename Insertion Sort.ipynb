{
 "cells": [
  {
   "cell_type": "markdown",
   "metadata": {},
   "source": [
    "<h1>Análisando algoritmos de ordenamiento</h1>"
   ]
  },
  {
   "cell_type": "code",
   "execution_count": 1,
   "metadata": {
    "collapsed": true
   },
   "outputs": [],
   "source": [
    "import math\n",
    "import numpy as np\n",
    "import pylab as pl\n",
    "%matplotlib inline"
   ]
  },
  {
   "cell_type": "markdown",
   "metadata": {},
   "source": [
    "<h2>Problema de ordenamiento</h2>\n",
    "\n",
    "Input:  $A[1..n] = <a_1,a_2\\ldots, a_n>$\n",
    "\n",
    "Output: $A'[1..n] = <a'_1,a'_2\\ldots, a'_n> : a'_1\\leq a'_2 \\leq \\ldots \\leq  a'_n$"
   ]
  },
  {
   "cell_type": "markdown",
   "metadata": {},
   "source": [
    "<h3> Ordenamiento por inserción </h3>"
   ]
  },
  {
   "cell_type": "code",
   "execution_count": 2,
   "metadata": {
    "collapsed": true
   },
   "outputs": [],
   "source": [
    "def insertion_sort(A):\n",
    "    j = 1\n",
    "    while j < len(A):\n",
    "        key = A[j]\n",
    "        i = j - 1\n",
    "        while (i >= 0) and (A[i] > key):\n",
    "            A[i + 1] = A[i]\n",
    "            i = i -1\n",
    "        A[i + 1] = key\n",
    "        j = j + 1"
   ]
  },
  {
   "cell_type": "code",
   "execution_count": 3,
   "metadata": {
    "collapsed": false
   },
   "outputs": [
    {
     "name": "stdout",
     "output_type": "stream",
     "text": [
      "[3 2 7 5 9 8 6 4 0 1]\n",
      "[0 1 2 3 4 5 6 7 8 9]\n"
     ]
    }
   ],
   "source": [
    "B = np.random.permutation(range(0,10))\n",
    "print B\n",
    "insertion_sort(B)\n",
    "print B"
   ]
  },
  {
   "cell_type": "markdown",
   "metadata": {},
   "source": [
    "<h4>Correctitud</h4>\n",
    "\n",
    "<b>Invariante:</b> Al comienzo de cada iteración del ciclo externo el subarreglo $A[0..j-1]$ consiste de los elementos originalmente en $A[0..j-1]$ pero ordenados."
   ]
  },
  {
   "cell_type": "code",
   "execution_count": 4,
   "metadata": {
    "collapsed": true
   },
   "outputs": [],
   "source": [
    "def invariant(A, original_A):\n",
    "    l1 = list(A)\n",
    "    l2 = list(original_A)\n",
    "    l2.sort()\n",
    "    return l1 == l2"
   ]
  },
  {
   "cell_type": "code",
   "execution_count": 5,
   "metadata": {
    "collapsed": false
   },
   "outputs": [
    {
     "name": "stdout",
     "output_type": "stream",
     "text": [
      "True\n",
      "False\n"
     ]
    }
   ],
   "source": [
    "print invariant([1, 2, 3, 4], [4, 3, 2, 1])\n",
    "print invariant([1, 2, 3, 4], [5, 3, 2, 1])"
   ]
  },
  {
   "cell_type": "markdown",
   "metadata": {},
   "source": [
    "Algoritmo de ordenamiento por inserción incluyendo evaluación de la invariante (inicialización, mantenimiento, terminación)"
   ]
  },
  {
   "cell_type": "code",
   "execution_count": 6,
   "metadata": {
    "collapsed": true
   },
   "outputs": [],
   "source": [
    "def right_insertion_sort(A):\n",
    "    original_A = list(A)\n",
    "    j = 1\n",
    "    assert invariant(A[0:j], original_A[0:j])\n",
    "    while j < len(A):\n",
    "        assert invariant(A[0:j], original_A[0:j])\n",
    "        key = A[j]\n",
    "        i = j - 1\n",
    "        while (i >= 0) and (A[i] > key):\n",
    "            A[i + 1] = A[i]\n",
    "            i = i -1        \n",
    "        A[i + 1] = key\n",
    "        j = j + 1\n",
    "    assert invariant(A[0:j], original_A[0:j])"
   ]
  },
  {
   "cell_type": "code",
   "execution_count": 7,
   "metadata": {
    "collapsed": false
   },
   "outputs": [
    {
     "name": "stdout",
     "output_type": "stream",
     "text": [
      "[1, 2, 3, 4, 5, 6, 7, 8, 9]\n"
     ]
    }
   ],
   "source": [
    "B = [5, 4, 6, 3, 7, 2, 8, 1, 9]\n",
    "right_insertion_sort(B)\n",
    "print B"
   ]
  },
  {
   "cell_type": "markdown",
   "metadata": {},
   "source": [
    "La siguiente función incluye un error, por lo tanto la aserción para comprobar el invariante de ciclo falla. Esto genera una excepción que es capturada para imprimir un mensaje y el estado de las variables."
   ]
  },
  {
   "cell_type": "code",
   "execution_count": 8,
   "metadata": {
    "collapsed": true
   },
   "outputs": [],
   "source": [
    "def wrong_insertion_sort(A):\n",
    "    original_A = list(A)\n",
    "    j = 1\n",
    "    try:\n",
    "        assert invariant(A[0:j], original_A[0:j])\n",
    "        while j < len(A):\n",
    "            assert invariant(A[0:j], original_A[0:j])\n",
    "            key = A[j]\n",
    "            i = j - 1\n",
    "            while (i >= 0) and (A[i] < key):\n",
    "                A[i + 1] = A[i]\n",
    "                i = i - 1        \n",
    "            A[i + 1] = key\n",
    "            j = j + 1\n",
    "        assert invariant(A[0:j], original_A[0:j])\n",
    "    except  AssertionError:\n",
    "        print \"Error en el invariante de ciclo!\"\n",
    "        print \"j=\", j\n",
    "        print \"i=\", i\n",
    "        print \"A=\", A\n",
    "        print \"Original A=\", original_A"
   ]
  },
  {
   "cell_type": "code",
   "execution_count": 9,
   "metadata": {
    "collapsed": false
   },
   "outputs": [
    {
     "name": "stdout",
     "output_type": "stream",
     "text": [
      "Error en el invariante de ciclo!\n",
      "j= 2\n",
      "i= 0\n",
      "A= [5, 4, 6, 3, 7, 2, 8, 1, 9]\n",
      "Original A= [5, 4, 6, 3, 7, 2, 8, 1, 9]\n"
     ]
    }
   ],
   "source": [
    "B = [5, 4, 6, 3, 7, 2, 8, 1, 9]\n",
    "wrong_insertion_sort(B)"
   ]
  },
  {
   "cell_type": "markdown",
   "metadata": {},
   "source": [
    "<h4> Análisis del tiempo de ejecución</h4>"
   ]
  },
  {
   "cell_type": "code",
   "execution_count": 10,
   "metadata": {
    "collapsed": true
   },
   "outputs": [],
   "source": [
    "class Counter:\n",
    "    '''\n",
    "    Class Counter\n",
    "    Implements a step counter, which is used to compute the number of basic operations performed in\n",
    "    a particular call to a function.\n",
    "    '''\n",
    "    def __init__(self):\n",
    "        self.steps = 0\n",
    "\n",
    "    def reset(self):\n",
    "        self.steps = 0\n",
    "\n",
    "    def count(self):\n",
    "        self.steps += 1\n",
    "\n",
    "    def print_steps(self):\n",
    "        print \"Number of steps =\", self.steps\n",
    "        \n",
    "def acct_insertion_sort(A, acct):\n",
    "    j = 1; acct.count()\n",
    "    acct.count()\n",
    "    while j < len(A):\n",
    "        acct.count()\n",
    "        key = A[j]; acct.count()\n",
    "        i = j - 1; acct.count()\n",
    "        acct.count()\n",
    "        while (i >= 0) and (A[i] > key):\n",
    "            acct.count()\n",
    "            A[i + 1] = A[i]; acct.count()\n",
    "            i = i -1; acct.count()\n",
    "        A[i + 1] = key; acct.count()\n",
    "        j = j + 1; acct.count()"
   ]
  },
  {
   "cell_type": "code",
   "execution_count": 11,
   "metadata": {
    "collapsed": false
   },
   "outputs": [
    {
     "name": "stdout",
     "output_type": "stream",
     "text": [
      "Number of steps = 125\n"
     ]
    }
   ],
   "source": [
    "B = np.random.permutation(range(0,10))\n",
    "acct = Counter()\n",
    "acct_insertion_sort(B, acct)\n",
    "acct.print_steps()"
   ]
  },
  {
   "cell_type": "markdown",
   "metadata": {},
   "source": [
    "<h4>Análisis experimental</h4>\n",
    "Ahora vamos a analizar el comportamiento del algoritmo cuando el tamaño de la entrada varía. La siguiente función genera arreglos al azar de tamaño 1 a n, llama la función acct_insertion_sort(l, acct) y contabiliza el número de pasos."
   ]
  },
  {
   "cell_type": "code",
   "execution_count": 12,
   "metadata": {
    "collapsed": true
   },
   "outputs": [],
   "source": [
    "import random as rnd\n",
    "import time\n",
    "\n",
    "def exper_analysis(n):\n",
    "    analysis= []\n",
    "    results = []\n",
    "    tiempo = []\n",
    "    acct = Counter()\n",
    "    for i in range(n):\n",
    "        tic = time.clock()#get start time\n",
    "        l = range(i)\n",
    "        rnd.shuffle(l)\n",
    "        acct.reset()\n",
    "        acct_insertion_sort(l, acct)\n",
    "        results.append(acct.steps)\n",
    "        toc = time.clock()#get final time\n",
    "        tiempo.append(toc-tic)\n",
    "    analysis.append(results)\n",
    "    analysis.append(tiempo)\n",
    "    return analysis"
   ]
  },
  {
   "cell_type": "code",
   "execution_count": 13,
   "metadata": {
    "collapsed": false
   },
   "outputs": [
    {
     "name": "stdout",
     "output_type": "stream",
     "text": [
      "[[2, 2, 8, 14, 35, 47, 53, 65, 110, 98], [1.1169265080470027e-05, 3.3205923212208177e-06, 9.961776963662453e-06, 6.943056671643528e-06, 1.3886113343287056e-05, 1.7206705664507877e-05, 1.901793783971924e-05, 2.2640402190141935e-05, 3.592277147502522e-05, 3.1998435095400614e-05]]\n"
     ]
    }
   ],
   "source": [
    "print (exper_analysis(10))"
   ]
  },
  {
   "cell_type": "code",
   "execution_count": 14,
   "metadata": {
    "collapsed": false
   },
   "outputs": [
    {
     "data": {
      "text/plain": [
       "[<matplotlib.lines.Line2D at 0x7ec8978>]"
      ]
     },
     "execution_count": 14,
     "metadata": {},
     "output_type": "execute_result"
    },
    {
     "data": {
      "image/png": "[encoded data removed]",
      "text/plain": [
       "<matplotlib.figure.Figure at 0x7d18048>"
      ]
     },
     "metadata": {},
     "output_type": "display_data"
    }
   ],
   "source": [
    "pl.clf()\n",
    "x = np.arange(100)\n",
    "y = np.array(exper_analysis(100)[0])\n",
    "pl.plot(x, y, 'k.')"
   ]
  },
  {
   "cell_type": "markdown",
   "metadata": {},
   "source": [
    "<b>Análisis de Tiempo </b>\n",
    " \n",
    "  <p>A continuación se representa en una gráfica el número de operaciones (negro), tiempo(rojo) y T(n)(azul) que el algoritmo de ordenamiento por inserción requiere para ordenar arreglos de tamaño n (variando n) en el peor de los casos.</p>\n",
    "  "
   ]
  },
  {
   "cell_type": "code",
   "execution_count": 15,
   "metadata": {
    "collapsed": false
   },
   "outputs": [
    {
     "data": {
      "text/plain": [
       "[<matplotlib.lines.Line2D at 0x8132128>,\n",
       " <matplotlib.lines.Line2D at 0x8132208>,\n",
       " <matplotlib.lines.Line2D at 0x81328d0>]"
      ]
     },
     "execution_count": 15,
     "metadata": {},
     "output_type": "execute_result"
    },
    {
     "data": {
      "image/png": "[encoded data removed]",
      "text/plain": [
       "<matplotlib.figure.Figure at 0x7e7f358>"
      ]
     },
     "metadata": {},
     "output_type": "display_data"
    }
   ],
   "source": [
    "pl.clf()\n",
    "resultados= []\n",
    "ti=[]\n",
    "x = np.arange(100)\n",
    "resultados = np.array(exper_analysis(100))\n",
    "y = np.array(resultados[0])\n",
    "t = np.array(resultados[1]*1000000)\n",
    "for i in range(100):\n",
    "    ti.append(i*i)\n",
    "pl.plot(x, y,'k.', t, 'r', ti, 'b')"
   ]
  }
 ],
 "metadata": {
  "anaconda-cloud": {},
  "kernelspec": {
   "display_name": "Python 2",
   "language": "python",
   "name": "python2"
  },
  "language_info": {
   "codemirror_mode": {
    "name": "ipython",
    "version": 2
   },
   "file_extension": ".py",
   "mimetype": "text/x-python",
   "name": "python",
   "nbconvert_exporter": "python",
   "pygments_lexer": "ipython2",
   "version": "2.7.13"
  }
 },
 "nbformat": 4,
 "nbformat_minor": 0
}
