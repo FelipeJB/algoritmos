{
 "cells": [
  {
   "cell_type": "markdown",
   "metadata": {},
   "source": [
    "<h1>Algoritmos para hayar subsecuencias de suma máxima en un arreglo</h1>"
   ]
  },
  {
   "cell_type": "code",
   "execution_count": 1,
   "metadata": {
    "collapsed": true
   },
   "outputs": [],
   "source": [
    "import math\n",
    "import numpy as np\n",
    "import pylab as pl\n",
    "%matplotlib inline\n",
    "\n",
    "def sum_array(A):\n",
    "    n=len(A)\n",
    "    result=[]\n",
    "    for i in range (n):\n",
    "        m=len(A[i])\n",
    "        suma=0\n",
    "        for j in range (m):\n",
    "            suma=suma+A[i][j]\n",
    "        result.append(suma)\n",
    "    \n",
    "    return result          "
   ]
  },
  {
   "cell_type": "markdown",
   "metadata": {},
   "source": [
    "<h2>Algoritmo trivial con complejidad $O(n$<sup>$3$</sup>$)$</h2>"
   ]
  },
  {
   "cell_type": "code",
   "execution_count": 2,
   "metadata": {
    "collapsed": true
   },
   "outputs": [],
   "source": [
    "def parts(A):\n",
    "    result = []\n",
    "    n=len(A)\n",
    "    m=n+1\n",
    "    for i in range (n):\n",
    "        for j in range (m):\n",
    "            if (j>i):\n",
    "                result.append(A[i:j])\n",
    "        \n",
    "    return result\n",
    "\n",
    "def max_sum(A):\n",
    "    B=[]\n",
    "    B=sum_array(parts(A))\n",
    "    n=len(B)\n",
    "    h=B[0]\n",
    "    for i in range (n):\n",
    "        if (B[i]>h):\n",
    "            h=B[i]\n",
    "            \n",
    "    return h"
   ]
  },
  {
   "cell_type": "code",
   "execution_count": 3,
   "metadata": {
    "collapsed": false
   },
   "outputs": [
    {
     "name": "stdout",
     "output_type": "stream",
     "text": [
      "[[-2], [-2, 11], [-2, 11, -4], [-2, 11, -4, 13], [-2, 11, -4, 13, -5], [-2, 11, -4, 13, -5, -2], [11], [11, -4], [11, -4, 13], [11, -4, 13, -5], [11, -4, 13, -5, -2], [-4], [-4, 13], [-4, 13, -5], [-4, 13, -5, -2], [13], [13, -5], [13, -5, -2], [-5], [-5, -2], [-2]]\n",
      "[-2, 9, 5, 18, 13, 11, 11, 7, 20, 15, 13, -4, 9, 4, 2, 13, 8, 6, -5, -7, -2]\n",
      "20\n"
     ]
    }
   ],
   "source": [
    "B = [-2, 11, -4, 13, -5, -2]\n",
    "print parts(B)\n",
    "print sum_array(parts(B))\n",
    "print max_sum(B)"
   ]
  },
  {
   "cell_type": "markdown",
   "metadata": {},
   "source": [
    "<h2>Algoritmo usando estrategia <i>Divide and conquer</i> con complejidad $O(nlogn)$ </h2>"
   ]
  },
  {
   "cell_type": "code",
   "execution_count": 4,
   "metadata": {
    "collapsed": false
   },
   "outputs": [],
   "source": [
    "def parts_div(A, r):\n",
    "    n=len(A)\n",
    "    for i in range (n):\n",
    "        r.append(A[:i+1])\n",
    "    if (n>1):\n",
    "        parts_div(A[1:], r)        \n",
    "    return r\n",
    "\n",
    "def max_sum_div(A):\n",
    "    B=[]\n",
    "    r=[]\n",
    "    B=sum_array(parts_div(A, r))\n",
    "    n=len(B)\n",
    "    h=B[0]\n",
    "    for i in range (n):\n",
    "        if (B[i]>h):\n",
    "            h=B[i]\n",
    "            \n",
    "    return h"
   ]
  },
  {
   "cell_type": "code",
   "execution_count": 5,
   "metadata": {
    "collapsed": false
   },
   "outputs": [
    {
     "name": "stdout",
     "output_type": "stream",
     "text": [
      "[[-2], [-2, 11], [-2, 11, -4], [-2, 11, -4, 13], [-2, 11, -4, 13, -5], [-2, 11, -4, 13, -5, -2], [11], [11, -4], [11, -4, 13], [11, -4, 13, -5], [11, -4, 13, -5, -2], [-4], [-4, 13], [-4, 13, -5], [-4, 13, -5, -2], [13], [13, -5], [13, -5, -2], [-5], [-5, -2], [-2]]\n",
      "[-2, 9, 5, 18, 13, 11, 11, 7, 20, 15, 13, -4, 9, 4, 2, 13, 8, 6, -5, -7, -2]\n",
      "20\n"
     ]
    }
   ],
   "source": [
    "r = []\n",
    "s = []\n",
    "B = [-2, 11, -4, 13, -5, -2]\n",
    "print parts_div(B, r)\n",
    "print sum_array(parts_div(B, s))\n",
    "print max_sum_div(B)"
   ]
  },
  {
   "cell_type": "markdown",
   "metadata": {},
   "source": [
    "<h2>Algoritmo propuesto en el taller</h2>"
   ]
  },
  {
   "cell_type": "code",
   "execution_count": 6,
   "metadata": {
    "collapsed": false
   },
   "outputs": [],
   "source": [
    "def sumaMax(A,p,u):\n",
    "    if (p>u):\n",
    "        return 0\n",
    "    if (p==u):\n",
    "        return max(A[p],0)\n",
    "    mitad=(p+u)/2\n",
    "    \n",
    "    max_aux=max(sumaMax(A,p,mitad),sumaMax(A,mitad+1,u))\n",
    "    \n",
    "    max_izq=0\n",
    "    suma=0\n",
    "    for i in range(mitad, p, -1):\n",
    "        suma=suma+A[i]\n",
    "        max_izq=max(max_izq,suma)\n",
    "        \n",
    "    max_der=0\n",
    "    suma=0\n",
    "    for j in range(mitad+1, u):\n",
    "        suma=suma+A[j]\n",
    "        max_der=max(max_der,suma)\n",
    "            \n",
    "    return max(max_der+max_izq,max_aux)"
   ]
  },
  {
   "cell_type": "code",
   "execution_count": 7,
   "metadata": {
    "collapsed": false
   },
   "outputs": [
    {
     "name": "stdout",
     "output_type": "stream",
     "text": [
      "20\n"
     ]
    }
   ],
   "source": [
    "B = [-2, 11, -4, 13, -5, -2]\n",
    "print sumaMax(B,0,5)"
   ]
  }
 ],
 "metadata": {
  "anaconda-cloud": {},
  "kernelspec": {
   "display_name": "Python [default]",
   "language": "python",
   "name": "python2"
  },
  "language_info": {
   "codemirror_mode": {
    "name": "ipython",
    "version": 2
   },
   "file_extension": ".py",
   "mimetype": "text/x-python",
   "name": "python",
   "nbconvert_exporter": "python",
   "pygments_lexer": "ipython2",
   "version": "2.7.12"
  }
 },
 "nbformat": 4,
 "nbformat_minor": 1
}
