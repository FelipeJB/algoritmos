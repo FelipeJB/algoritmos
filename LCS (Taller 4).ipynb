{
 "cells": [
  {
   "cell_type": "markdown",
   "metadata": {},
   "source": [
    "<h1>Taller 4</h1><br><h2> Subsecuencia común más larga.</h2>"
   ]
  },
  {
   "cell_type": "code",
   "execution_count": 1,
   "metadata": {
    "collapsed": true
   },
   "outputs": [],
   "source": [
    "import math\n",
    "import numpy as np\n",
    "import pylab as pl\n",
    "import random as rnd\n",
    "import time\n",
    "%matplotlib inline"
   ]
  },
  {
   "cell_type": "markdown",
   "metadata": {},
   "source": [
    "<h3>1. \n",
    "Método para retornar la subsecuencia común más larga (SCL) apartir de la matriz C construida por el algoritmo de PD que calcula la longitud de la SCL.</h3>"
   ]
  },
  {
   "cell_type": "code",
   "execution_count": 2,
   "metadata": {
    "collapsed": false
   },
   "outputs": [],
   "source": [
    "def scl(s1, s2):\n",
    "\n",
    "    result = [] \n",
    "    \n",
    "    for i in range((len(s1)+1)):\n",
    "        result.append((len(s2)+1)*[0])\n",
    "    \n",
    "    for i in range((len(s1))+1):\n",
    "        for j in range((len(s2))+1):\n",
    "            if i == 0 or j == 0 :\n",
    "                result[i][j] = 0\n",
    "            elif s1[i-1] == s2[j-1]:\n",
    "                result[i][j] = result[i-1][j-1]+1\n",
    "            else:\n",
    "                result[i][j] = max(result[i-1][j] , result[i][j-1])\n",
    "                \n",
    "    return result[len(s1)][len(s2)]"
   ]
  },
  {
   "cell_type": "code",
   "execution_count": 3,
   "metadata": {
    "collapsed": false
   },
   "outputs": [
    {
     "name": "stdout",
     "output_type": "stream",
     "text": [
      "3\n"
     ]
    }
   ],
   "source": [
    "print scl(\"analisis\",\"algoritmo\")"
   ]
  },
  {
   "cell_type": "markdown",
   "metadata": {},
   "source": [
    "<h3>2. Para el problema del corte de la barilla:</h3>"
   ]
  },
  {
   "cell_type": "markdown",
   "metadata": {},
   "source": [
    "<h4>2.1 Implemente un método para determinar los cortes que se deben realizar a partir de la solución de PD que encuentra el valor de la solución óptima.</h4>"
   ]
  },
  {
   "cell_type": "code",
   "execution_count": 4,
   "metadata": {
    "collapsed": false
   },
   "outputs": [],
   "source": [
    "def cut_rod(p,n):\n",
    "    r=[]\n",
    "    s=[]\n",
    "    for i in range (n+1):\n",
    "        r.append(0)\n",
    "        s.append(-50)\n",
    "        \n",
    "    for j in range(1,n+1):\n",
    "        q = float('-inf')\n",
    "        for i in range(1,j+1):\n",
    "            if (q < p[(i-1)]+r[(j-i)]):\n",
    "                cortes = []\n",
    "                cortes.append(i)\n",
    "                if(s[(j-i)] != -50):\n",
    "                    for a in range (len(s[(j-i)])):\n",
    "                        cortes.append(s[(j-i)][a])\n",
    "                q = p[(i-1)]+r[(j-i)]\n",
    "        r[j] = q\n",
    "        s[j] = cortes \n",
    "        \n",
    "    result=[]\n",
    "    result.append(r[n])\n",
    "    result.append(s[n])\n",
    "    return result\n",
    "# Basado en solución propuesta en Cormen cap. 15.1"
   ]
  },
  {
   "cell_type": "code",
   "execution_count": 5,
   "metadata": {
    "collapsed": false
   },
   "outputs": [
    {
     "name": "stdout",
     "output_type": "stream",
     "text": [
      "Valor optimo: 43\n",
      "Cortes: [2, 3, 10]\n"
     ]
    }
   ],
   "source": [
    "p = [1,5,8,9,10,17,17,20,24,30,31,35,38,39,40,47]\n",
    "x= cut_rod(p,15)\n",
    "\n",
    "print \"Valor optimo:\",x[0]\n",
    "print \"Cortes:\",x[1]"
   ]
  },
  {
   "cell_type": "markdown",
   "metadata": {},
   "source": [
    "<h4>2.2 Realice una comparación experimental sistemática de los algoritmos para diferentes valores  de p y de n.</h4>"
   ]
  },
  {
   "cell_type": "code",
   "execution_count": 6,
   "metadata": {
    "collapsed": true
   },
   "outputs": [],
   "source": [
    "class Counter:\n",
    "    '''\n",
    "    Class Counter\n",
    "    Implements a step counter, which is used to compute the number of basic operations performed in\n",
    "    a particular call to a function.\n",
    "    '''\n",
    "    def __init__(self):\n",
    "        self.steps = 0\n",
    "\n",
    "    def reset(self):\n",
    "        self.steps = 0\n",
    "\n",
    "    def count(self):\n",
    "        self.steps += 1\n",
    "\n",
    "    def print_steps(self):\n",
    "        print \"Number of steps =\", self.steps\n",
    "        \n",
    "def acct_cut_rod(p,n,acct):\n",
    "    r=[]; acct.count()\n",
    "    s=[]; acct.count()\n",
    "    for i in range (n+1):\n",
    "        acct.count()\n",
    "        r.append(0); acct.count()\n",
    "        s.append(-50); acct.count()\n",
    "        \n",
    "    for j in range(1,n+1):\n",
    "        acct.count()\n",
    "        q = float('-inf'); acct.count()\n",
    "        for i in range(1,j+1):\n",
    "            acct.count()\n",
    "            if (q < p[(i-1)]+r[(j-i)]):\n",
    "                acct.count()\n",
    "                cortes = []; acct.count()\n",
    "                cortes.append(i); acct.count()\n",
    "                if(s[(j-i)] != -50):\n",
    "                    acct.count()\n",
    "                    for a in range (len(s[(j-i)])):\n",
    "                        acct.count()\n",
    "                        cortes.append(s[(j-i)][a]); acct.count()\n",
    "                q = p[(i-1)]+r[(j-i)]; acct.count()\n",
    "        r[j] = q; acct.count()\n",
    "        s[j] = cortes ; acct.count()\n",
    "        \n",
    "    result=[]\n",
    "    result.append(r[n])\n",
    "    result.append(s[n])\n",
    "    return result\n",
    "\n",
    "def rod_exper_analysis(n):\n",
    "    results = []\n",
    "    tiempo=[]    \n",
    "    acct = Counter()\n",
    "    for i in range (1,n):\n",
    "        tam= rnd.randint(1,i)\n",
    "        costs=[0]*tam*2\n",
    "        for x in range (len(costs)):\n",
    "            costs[x]=rnd.randint(1,len(costs)*2)\n",
    "        #print \"Tamaño:\",tam\n",
    "        #print \"Cortes:\",costs\n",
    "        acct.reset\n",
    "        tic = time.clock()#get start time\n",
    "        acct_cut_rod(costs,tam,acct)\n",
    "        toc = time.clock()#get final time\n",
    "        tiempo.append(toc-tic)\n",
    "        results.append(acct.steps)\n",
    "        \n",
    "    r= [tiempo, results]\n",
    "    \n",
    "    return r"
   ]
  },
  {
   "cell_type": "code",
   "execution_count": 7,
   "metadata": {
    "collapsed": false
   },
   "outputs": [
    {
     "data": {
      "text/plain": [
       "[<matplotlib.lines.Line2D at 0x78fd6a0>,\n",
       " <matplotlib.lines.Line2D at 0x7bdd860>]"
      ]
     },
     "execution_count": 7,
     "metadata": {},
     "output_type": "execute_result"
    },
    {
     "data": {
      "image/png": "[encoded data removed]",
      "text/plain": [
       "<matplotlib.figure.Figure at 0x7d35518>"
      ]
     },
     "metadata": {},
     "output_type": "display_data"
    }
   ],
   "source": [
    "pl.figure (1)\n",
    "x=np.arange(99)\n",
    "res=(rod_exper_analysis(100))\n",
    "p=np.array(res[0])\n",
    "t=np.array(res[0])*100\n",
    "pl.plot(x, p, 'k.', t, 'r.')"
   ]
  },
  {
   "cell_type": "markdown",
   "metadata": {},
   "source": [
    "<h3>3. Implemente, describa y analice un algoritmo de PD para calcular la distancia de edición entre dos cadenas. </h3>"
   ]
  },
  {
   "cell_type": "code",
   "execution_count": 8,
   "metadata": {
    "collapsed": true
   },
   "outputs": [],
   "source": [
    "def edit_distance(a, b):\n",
    "    \n",
    "    resp=[]    \n",
    "    tamA= len(a)\n",
    "    tamB= len(b)\n",
    "    \n",
    "    for i in range(tamA+1):\n",
    "        resp.append((tamB+1)*[0])\n",
    "        resp[i][0]=i\n",
    "        \n",
    "    for i in range(tamB+1):\n",
    "         resp[0][i] = i   \n",
    "            \n",
    "    for i in range(1, tamA+1):\n",
    "        for j in range(1, tamB+1):            \n",
    "            x=1\n",
    "            if (a[i-1] == b[j-1]):\n",
    "                x=0\n",
    "                \n",
    "            resp[i][j] = min(resp[i][j-1]+1, resp[i-1][j]+1, resp[i-1][j-1]+x)\n",
    "\n",
    "    return resp[tamA][tamB]"
   ]
  },
  {
   "cell_type": "code",
   "execution_count": 9,
   "metadata": {
    "collapsed": false
   },
   "outputs": [
    {
     "name": "stdout",
     "output_type": "stream",
     "text": [
      "5\n"
     ]
    }
   ],
   "source": [
    "x=edit_distance (\"hola\", \"adios\")\n",
    "print x"
   ]
  },
  {
   "cell_type": "markdown",
   "metadata": {},
   "source": [
    "En el algoritmo que se va a utilizar se requiere la creación de una matriz, de tamaño en filas del tamaño de la primera cadena + 1, y en columnas, del tamaño de la segunda cadena +1. Esta matriz debe inicializarse  en su primera fila, los números del 0 al tamaño de la cadena 1 +1; y en su primera columna, los números del 0 al tamaño de la cadena 2+1. \n",
    "Posteriormente, sen un ciclo anidado que recorra la matriz por filas y columnas(empezando en 1,1), se le debe asignar el valor a la respectiva celda, del mínimo resultado entre <pre>resp[i][j-1]+3, resp[i-1][j]+2, resp[i-1][j-1]+x</pre> siendo el primer caso inserción, el segundo eliminación, y el tercero, derecha cuando el valor de ambas cadenas en la respectiva posición sea igual($x=0$), o reemplazar de lo contrario ($x=4$).\n",
    "\n",
    "El gasto en memoria de este algoritmo sería de: $(tamanoCadena1 +1)* (tamanoCadena2 +1)$ ya que solo se debe crear una matriz de tal tamaño.\n",
    "\n",
    "El tiempo de ejecución teóricamente sería de $O(n*m)$ debido a que se utiliza un ciclo anidado recorrido $n*m$ veces.\n",
    "\n",
    "A continuación se muestra el análisis experimental del tiempo de ejecución:"
   ]
  },
  {
   "cell_type": "code",
   "execution_count": 10,
   "metadata": {
    "collapsed": true
   },
   "outputs": [],
   "source": [
    "class Counter:\n",
    "    '''\n",
    "    Class Counter\n",
    "    Implements a step counter, which is used to compute the number of basic operations performed in\n",
    "    a particular call to a function.\n",
    "    '''\n",
    "    def __init__(self):\n",
    "        self.steps = 0\n",
    "\n",
    "    def reset(self):\n",
    "        self.steps = 0\n",
    "\n",
    "    def count(self):\n",
    "        self.steps += 1\n",
    "\n",
    "    def print_steps(self):\n",
    "        print \"Number of steps =\", self.steps\n",
    "        \n",
    "def acct_edit_distance(a, b, acct):\n",
    "    \n",
    "    resp=[]; acct.count()    \n",
    "    tamA= len(a); acct.count()\n",
    "    tamB= len(b); acct.count()\n",
    "    \n",
    "    for i in range(tamA+1):\n",
    "        acct.count()\n",
    "        resp.append((tamB+1)*[0]); acct.count()\n",
    "        resp[i][0]=i; acct.count()\n",
    "        \n",
    "    for i in range(tamB+1):\n",
    "        acct.count()\n",
    "        resp[0][i] = i  ; acct.count() \n",
    "            \n",
    "    for i in range(1, tamA+1):\n",
    "        acct.count()\n",
    "        for j in range(1, tamB+1): \n",
    "            acct.count()\n",
    "            x=4 ; acct.count() \n",
    "            if (a[i-1] == b[j-1]):\n",
    "                acct.count() \n",
    "                x=0; acct.count()\n",
    "                \n",
    "                \n",
    "            resp[i][j] = min(resp[i][j-1]+3, resp[i-1][j]+2, resp[i-1][j-1]+x); acct.count() \n",
    "\n",
    "    return resp[tamA][tamB]\n",
    "\n",
    "import string\n",
    "import time\n",
    "\n",
    "def exper_analysis(n):\n",
    "    results = []\n",
    "    tiempo=[]    \n",
    "    acct = Counter()\n",
    "    for i in range (1,n):\n",
    "        x=\"\".join(rnd.choice(string.ascii_uppercase)for _ in range (i))\n",
    "        y=\"\".join(rnd.choice(string.ascii_uppercase)for _ in range (i))\n",
    "        acct.reset\n",
    "        tic = time.clock()#get start time\n",
    "        acct_edit_distance(x,y,acct)\n",
    "        toc = time.clock()#get final time\n",
    "        tiempo.append(toc-tic)\n",
    "        results.append(acct.steps)\n",
    "        \n",
    "    r= [tiempo, results]\n",
    "    \n",
    "    return r"
   ]
  },
  {
   "cell_type": "code",
   "execution_count": 11,
   "metadata": {
    "collapsed": false
   },
   "outputs": [
    {
     "data": {
      "text/plain": [
       "[<matplotlib.lines.Line2D at 0x7ed95f8>,\n",
       " <matplotlib.lines.Line2D at 0x7ed96d8>]"
      ]
     },
     "execution_count": 11,
     "metadata": {},
     "output_type": "execute_result"
    },
    {
     "data": {
      "image/png": "[encoded data removed]",
      "text/plain": [
       "<matplotlib.figure.Figure at 0x7e34320>"
      ]
     },
     "metadata": {},
     "output_type": "display_data"
    }
   ],
   "source": [
    "pl.figure (1)\n",
    "x=np.arange(29)\n",
    "res=(exper_analysis(30))\n",
    "p=np.array(res[0])\n",
    "t=np.array(res[0])*100\n",
    "pl.plot(x, p, 'k.', t, 'r.')"
   ]
  },
  {
   "cell_type": "markdown",
   "metadata": {},
   "source": [
    "<h3>4. En el rio atrato hay n embarcaderos, en cada uno de ellos se puede alquilar un bote para realizar un viaje rio abajo a otro embarcadero. Existe una tabla de tarifas que indica el costo del viaje del embarcadero i al j, para $i, j = 1,2,...,n  (i<j)$, puede pasar que un viaje de i a j sea más caro que una serie de viajes sucesivos intermedios, no hay un costo asociado a cambiar de bote en algún embarcadero. El problema consiste en diseñar un algoritmo de PD que determine el costo mínimo para cada par de puntos i,j.</h3>"
   ]
  },
  {
   "cell_type": "code",
   "execution_count": 12,
   "metadata": {
    "collapsed": false
   },
   "outputs": [],
   "source": [
    "def minCost(cost):\n",
    "    \n",
    "    for m in range (len(cost)):\n",
    "        for n in range (len(cost[0])):\n",
    " \n",
    "            result = [[0 for x in range(len(cost))] for x in range(len(cost[0]))]\n",
    "            result[0][0] = cost[0][0]\n",
    "\n",
    "            for i in range(1, m+1):\n",
    "                result[i][0] = result[i-1][0] + cost[i][0]\n",
    "\n",
    "            for j in range(1, n+1):\n",
    "                result[0][j] = result[0][j-1] + cost[0][j]\n",
    "\n",
    "            for i in range(1, m+1):\n",
    "                for j in range(1, n+1):\n",
    "                    result[i][j] = min(result[i-1][j-1], result[i-1][j], result[i][j-1]) + cost[i][j]\n",
    " \n",
    "    return result\n"
   ]
  },
  {
   "cell_type": "code",
   "execution_count": 13,
   "metadata": {
    "collapsed": false
   },
   "outputs": [
    {
     "name": "stdout",
     "output_type": "stream",
     "text": [
      "[[3, 5, 10], [11, 11, 7], [12, 16, 8]]\n"
     ]
    }
   ],
   "source": [
    "cost = [[3, 2, 5],\n",
    "        [8, 8, 2],\n",
    "        [1, 5, 1]]\n",
    "print(minCost(cost))"
   ]
  }
 ],
 "metadata": {
  "kernelspec": {
   "display_name": "Python 2",
   "language": "python",
   "name": "python2"
  },
  "language_info": {
   "codemirror_mode": {
    "name": "ipython",
    "version": 2
   },
   "file_extension": ".py",
   "mimetype": "text/x-python",
   "name": "python",
   "nbconvert_exporter": "python",
   "pygments_lexer": "ipython2",
   "version": "2.7.13"
  }
 },
 "nbformat": 4,
 "nbformat_minor": 2
}
