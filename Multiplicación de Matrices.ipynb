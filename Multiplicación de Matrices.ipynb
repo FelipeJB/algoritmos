{
 "cells": [
  {
   "cell_type": "markdown",
   "metadata": {},
   "source": [
    "<h1>Implementación y análisis de algoritmos de multiplicación de matrices cuadradas.</h1>"
   ]
  },
  {
   "cell_type": "code",
   "execution_count": 1,
   "metadata": {
    "collapsed": true
   },
   "outputs": [],
   "source": [
    "import math\n",
    "from math import ceil, log\n",
    "import numpy as np\n",
    "import pylab as pl\n",
    "%matplotlib inline\n",
    "\n",
    "def iniciar_matriz_vacia(row,col):\n",
    "    M=[]\n",
    "    for i in range (0,row):\n",
    "        M.append([0]*col)\n",
    "    return M\n",
    "\n",
    "def iniciar_matriz_aleatoria(row,col, rango):\n",
    "    return np.random.randint(0, rango, (row,col))"
   ]
  },
  {
   "cell_type": "markdown",
   "metadata": {},
   "source": [
    "<h2>Algoritmo con complejidad $O(n$<sup>$3$</sup>$)$</h2>"
   ]
  },
  {
   "cell_type": "code",
   "execution_count": 2,
   "metadata": {
    "collapsed": false
   },
   "outputs": [],
   "source": [
    "def mult_matriz(A, B): \n",
    "    try:\n",
    "        row=len(A)\n",
    "        col=len(B[0])\n",
    "        assert row==col==len(A[0])==len(B)\n",
    "        result=iniciar_matriz_vacia(row, col)\n",
    "        for i in range (row):\n",
    "            for j in range (col):\n",
    "                for k in range (col):\n",
    "                    result[i][j]+= A[i][k]*B[k][j]               \n",
    "        return result\n",
    "    except  AssertionError:\n",
    "        print \"Error, cada matriz debe ser cuadrada y del mismo tamaño\""
   ]
  },
  {
   "cell_type": "code",
   "execution_count": 3,
   "metadata": {
    "collapsed": false
   },
   "outputs": [
    {
     "name": "stdout",
     "output_type": "stream",
     "text": [
      "[[4 3 4]\n",
      " [4 5 2]\n",
      " [5 4 1]]\n",
      "[[3 3 4]\n",
      " [3 0 4]\n",
      " [2 1 5]]\n",
      "[[29, 16, 48], [31, 14, 46], [29, 16, 41]]\n"
     ]
    }
   ],
   "source": [
    "A= iniciar_matriz_aleatoria(3,3,6)\n",
    "B= iniciar_matriz_aleatoria(3,3,6)\n",
    "print A\n",
    "print B\n",
    "print mult_matriz(A,B)"
   ]
  },
  {
   "cell_type": "markdown",
   "metadata": {},
   "source": [
    "<h4> Análisis del tiempo de ejecución</h4>"
   ]
  },
  {
   "cell_type": "code",
   "execution_count": 4,
   "metadata": {
    "collapsed": true
   },
   "outputs": [],
   "source": [
    "class Counter:\n",
    "    '''\n",
    "    Class Counter\n",
    "    Implements a step counter, which is used to compute the number of basic operations performed in\n",
    "    a particular call to a function.\n",
    "    '''\n",
    "    def __init__(self):\n",
    "        self.steps = 0\n",
    "\n",
    "    def reset(self):\n",
    "        self.steps = 0\n",
    "\n",
    "    def count(self):\n",
    "        self.steps += 1\n",
    "\n",
    "    def print_steps(self):\n",
    "        print \"Number of steps =\", self.steps\n",
    "        \n",
    "def acct_mult_matriz(A, B, acct): \n",
    "    row=len(A); acct.count()\n",
    "    col=len(B[0]); acct.count()\n",
    "    result=iniciar_matriz_vacia(row, col); acct.count()\n",
    "    acct.count()\n",
    "    for i in range (row):\n",
    "        acct.count()\n",
    "        for j in range (col):\n",
    "            acct.count()\n",
    "            for k in range (col):\n",
    "                acct.count()\n",
    "                result[i][j]+= A[i][k]*B[k][j]; acct.count()               \n",
    "    acct.count()\n",
    "    return result"
   ]
  },
  {
   "cell_type": "code",
   "execution_count": 5,
   "metadata": {
    "collapsed": false
   },
   "outputs": [
    {
     "name": "stdout",
     "output_type": "stream",
     "text": [
      "Number of steps = 71\n"
     ]
    }
   ],
   "source": [
    "A= iniciar_matriz_aleatoria(3,3,6)\n",
    "B= iniciar_matriz_aleatoria(3,3,6)\n",
    "acct = Counter()\n",
    "acct_mult_matriz(A, B, acct)\n",
    "acct.print_steps()"
   ]
  },
  {
   "cell_type": "markdown",
   "metadata": {},
   "source": [
    "<h4>Análisis experimental</h4><br>\n",
    "A continuación se analizará el comportamiento del algoritmo cuando el tamaño de las matrices de entrada varía, desde 2 hasta 100, se graficarán los resultados de total de instrucciones Vs tamaño de la matriz."
   ]
  },
  {
   "cell_type": "code",
   "execution_count": 6,
   "metadata": {
    "collapsed": false
   },
   "outputs": [],
   "source": [
    "import time\n",
    "\n",
    "def exper_analysis_mult(n):\n",
    "    analysis= []\n",
    "    results = []\n",
    "    tiempo = []\n",
    "    acct = Counter()\n",
    "    for i in range(n):\n",
    "        tic = time.clock()#get start time\n",
    "        A= iniciar_matriz_aleatoria(i+2,i+2,6)\n",
    "        B= iniciar_matriz_aleatoria(i+2,i+2,6)\n",
    "        acct.reset()\n",
    "        acct_mult_matriz(A, B, acct)\n",
    "        results.append(acct.steps)\n",
    "        toc = time.clock()#get final time\n",
    "        tiempo.append(toc-tic)\n",
    "    analysis.append(results)\n",
    "    analysis.append(tiempo)\n",
    "    return analysis"
   ]
  },
  {
   "cell_type": "code",
   "execution_count": 7,
   "metadata": {
    "collapsed": false
   },
   "outputs": [
    {
     "name": "stdout",
     "output_type": "stream",
     "text": [
      "[[27, 71, 153, 285, 479, 747, 1101, 1553, 2115, 2799, 3617, 4581, 5703, 6995, 8469, 10137, 12011, 14103, 16425, 18989, 21807, 24891, 28253, 31905, 35859, 40127, 44721, 49653, 54935, 60579, 66597, 73001, 79803, 87015, 94649, 102717, 111231, 120203, 129645, 139569, 149987, 160911, 172353, 184325, 196839, 209907, 223541, 237753, 252555, 267959, 283977, 300621, 317903, 335835, 354429, 373697, 393651, 414303, 435665, 457749, 480567, 504131, 528453, 553545, 579419, 606087, 633561, 661853, 690975, 720939, 751757, 783441, 816003, 849455, 883809, 919077, 955271, 992403, 1030485, 1069529, 1109547, 1150551, 1192553, 1235565, 1279599, 1324667, 1370781, 1417953, 1466195, 1515519, 1565937, 1617461, 1670103, 1723875, 1778789, 1834857, 1892091, 1950503, 2010105, 2070909], [0.00015727532721418605, 0.00018202883360874127, 0.00035681273851663714, 0.001087644921214419, 0.0011531511515512297, 0.0016050535792664629, 0.002496481681499652, 0.0034579440945076804, 0.005074166938854614, 0.005958651984416157, 0.00647877749073102, 0.004279941630024431, 0.0051831427413964945, 0.006153057571222177, 0.007545593241930507, 0.007321000452204296, 0.005125787055848145, 0.006251467852741999, 0.00748733194029455, 0.008274312320423874, 0.010533522586970837, 0.011601243954257934, 0.012576290608580051, 0.014709922110979018, 0.01639738675421759, 0.017763055814326967, 0.019876461890769442, 0.02152347568209495, 0.02437767571819882, 0.026539985063372018, 0.0303028199073736, 0.03226317686501068, 0.03570059366153261, 0.039253929317268066, 0.041999153550830115, 0.044936972139022924, 0.050922490734038095, 0.05637641268562865, 0.059196803054461955, 0.06068925836683614, 0.0663351709289991, 0.07254347108156511, 0.07747424880654885, 0.0803435424441129, 0.08911684922880747, 0.09378047020794744, 0.10086601047737442, 0.10630544257156327, 0.1111115471484867, 0.13268754856366272, 0.12779782543465035, 0.13537753021588084, 0.1426903801232966, 0.15259117893706042, 0.15958434636555108, 0.16622824785625578, 0.1814634272980462, 0.18356898470172922, 0.19644110989892738, 0.20490077164528087, 0.2160691311096632, 0.23089195335956392, 0.2337881136077269, 0.24494047385456197, 0.26007905424700795, 0.2943602456272334, 0.28486727592492134, 0.3143212316861783, 0.3616236730460276, 0.3202493945956455, 0.3583224005346759, 0.3525161939250063, 0.36595855538536703, 0.48619810895286086, 0.44752437767571873, 0.47891786122459834, 0.46402741964015704, 0.5139434690288347, 0.5189974105417328, 0.7216208595987155, 0.5690483967274655, 0.6278014478990013, 0.6454636784555738, 0.6040803438443163, 0.5940932096302021, 0.6570893740441974, 0.6578464690934371, 0.6777380245856648, 0.7740318813087494, 0.708013977882441, 0.7972555002593111, 0.8205917174767592, 0.9046555308087605, 0.8812927488527329, 0.8843655042379801, 1.0250493409831734, 0.9236804117051491, 1.0577384592813885, 1.007883991786663, 1.0076123069603824]]\n"
     ]
    }
   ],
   "source": [
    "print (exper_analysis_mult(100))"
   ]
  },
  {
   "cell_type": "code",
   "execution_count": 8,
   "metadata": {
    "collapsed": false
   },
   "outputs": [
    {
     "data": {
      "text/plain": [
       "[<matplotlib.lines.Line2D at 0x78ffef0>]"
      ]
     },
     "execution_count": 8,
     "metadata": {},
     "output_type": "execute_result"
    },
    {
     "data": {
      "image/png": "[encoded data removed]",
      "text/plain": [
       "<matplotlib.figure.Figure at 0x7bd3b00>"
      ]
     },
     "metadata": {},
     "output_type": "display_data"
    }
   ],
   "source": [
    "pl.clf()\n",
    "x = np.arange(100)\n",
    "y = np.array(exper_analysis_mult(100)[0])\n",
    "pl.plot(x, y, 'k.')"
   ]
  },
  {
   "cell_type": "markdown",
   "metadata": {},
   "source": [
    "<h2>Algoritmo <i>Divide and Conquer</i> con complejidad $O(n$<sup>3</sup>$)$</h2>"
   ]
  },
  {
   "cell_type": "code",
   "execution_count": 9,
   "metadata": {
    "collapsed": false
   },
   "outputs": [],
   "source": [
    "def suma(A,B):\n",
    "    result=iniciar_matriz_vacia(len(A), len(A))\n",
    "    for i in range(len(A)):\n",
    "        for j in range(len(A)):\n",
    "            result[i][j] = A[i][j]+ B[i][j]\n",
    "    return result\n",
    "\n",
    "\n",
    "def div(A, B): \n",
    "    try:\n",
    "        row=len(A)\n",
    "        col=len(B[0])\n",
    "        assert row==col==len(A[0])==len(B)\n",
    "        if(row==2):            \n",
    "            result=iniciar_matriz_vacia(row, col)\n",
    "            result[0][0]=(A[0][0]*B[0][0])+(A[0][1]*B[1][0])\n",
    "            result[0][1]=(A[0][0]*B[0][1])+(A[0][1]*B[1][1])\n",
    "            result[1][0]=(A[1][0]*B[0][0])+(A[1][1]*B[1][0])\n",
    "            result[1][1]=(A[1][0]*B[0][1])+(A[1][1]*B[1][1])\n",
    "            return result\n",
    "        else:\n",
    "            odd=False\n",
    "            if (row%2!=0):\n",
    "                A= np.concatenate((A,iniciar_matriz_vacia(1,len(A))),axis=0)\n",
    "                A= np.concatenate((A,iniciar_matriz_vacia(len(A),1)),axis=1)\n",
    "                B= np.concatenate((B,iniciar_matriz_vacia(1,len(B))),axis=0)\n",
    "                B= np.concatenate((B,iniciar_matriz_vacia(len(B),1)),axis=1)\n",
    "                odd=True                \n",
    "            C=iniciar_matriz_vacia(2, 2)\n",
    "            C[0][0]=suma(div(A[:len(A)/2,:len(A)/2],B[:len(B)/2,:len(B)/2]), div(A[:len(A)/2,len(A)/2:],B[len(B)/2:,:len(B)/2]))\n",
    "            C[0][1]=suma(div(A[:len(A)/2,:len(A)/2],B[:len(B)/2,len(B)/2:]), div(A[:len(A)/2,len(A)/2:],B[len(B)/2:,len(B)/2:]))\n",
    "            C[1][0]=suma(div(A[len(A)/2:,:len(A)/2],B[:len(B)/2,:len(B)/2]), div(A[len(A)/2:,len(A)/2:],B[len(B)/2:,:len(B)/2]))\n",
    "            C[1][1]=suma(div(A[len(A)/2:,:len(A)/2],B[:len(B)/2,len(B)/2:]), div(A[len(A)/2:,len(A)/2:],B[len(B)/2:,len(B)/2:]))\n",
    "            a=np.concatenate((C[0][0],C[0][1]),axis=1)\n",
    "            b=np.concatenate((C[1][0],C[1][1]),axis=1)\n",
    "            C=np.concatenate((a,b),axis=0)\n",
    "            if (odd):                \n",
    "                C= np.delete(C, len(C)-1,0)\n",
    "                C= np.delete(C, len(C),1)                 \n",
    "            return C\n",
    "            \n",
    "    except  AssertionError:\n",
    "        print \"Error, cada matriz debe ser cuadrada y del mismo tamaño\""
   ]
  },
  {
   "cell_type": "code",
   "execution_count": 10,
   "metadata": {
    "collapsed": false
   },
   "outputs": [
    {
     "name": "stdout",
     "output_type": "stream",
     "text": [
      "[[0 2 4 4 5]\n",
      " [4 1 0 0 0]\n",
      " [4 2 3 4 4]\n",
      " [2 0 3 5 0]\n",
      " [3 4 2 5 2]]\n",
      "[[4 1 3 5 1]\n",
      " [4 3 4 5 2]\n",
      " [5 1 1 0 1]\n",
      " [4 1 1 5 1]\n",
      " [0 1 3 5 1]]\n",
      "[[44 19 31 55 17]\n",
      " [20  7 16 25  6]\n",
      " [55 21 39 70 19]\n",
      " [43 10 14 35 10]\n",
      " [58 24 38 70 20]]\n"
     ]
    }
   ],
   "source": [
    "A= iniciar_matriz_aleatoria(5,5,6)\n",
    "B= iniciar_matriz_aleatoria(5,5,6)\n",
    "\n",
    "print A\n",
    "print B\n",
    "print div(A,B)"
   ]
  },
  {
   "cell_type": "markdown",
   "metadata": {},
   "source": [
    "<h4> Análisis del tiempo de ejecución</h4>"
   ]
  },
  {
   "cell_type": "code",
   "execution_count": 11,
   "metadata": {
    "collapsed": true
   },
   "outputs": [],
   "source": [
    "class Counter:\n",
    "    '''\n",
    "    Class Counter\n",
    "    Implements a step counter, which is used to compute the number of basic operations performed in\n",
    "    a particular call to a function.\n",
    "    '''\n",
    "    def __init__(self):\n",
    "        self.steps = 0\n",
    "\n",
    "    def reset(self):\n",
    "        self.steps = 0\n",
    "\n",
    "    def count(self):\n",
    "        self.steps += 1\n",
    "\n",
    "    def print_steps(self):\n",
    "        print \"Number of steps =\", self.steps\n",
    "        \n",
    "def s(A,B):\n",
    "    result=iniciar_matriz_vacia(len(A), len(A)); acct.count()\n",
    "    for i in range(len(A)):\n",
    "        acct.count()\n",
    "        for j in range(len(A)):\n",
    "            acct.count()\n",
    "            result[i][j] = A[i][j]+ B[i][j];acct.count()\n",
    "    acct.count()\n",
    "    return result\n",
    "\n",
    "\n",
    "def ac_d(A, B, ac): \n",
    "    row=len(A); ac.count()\n",
    "    col=len(B[0]);ac.count() \n",
    "    if(row==2):\n",
    "        ac.count()\n",
    "        result=iniciar_matriz_vacia(row, col);ac.count()\n",
    "        result[0][0]=(A[0][0]*B[0][0])+(A[0][1]*B[1][0]);ac.count()\n",
    "        result[0][1]=(A[0][0]*B[0][1])+(A[0][1]*B[1][1]);ac.count()\n",
    "        result[1][0]=(A[1][0]*B[0][0])+(A[1][1]*B[1][0]);ac.count()\n",
    "        result[1][1]=(A[1][0]*B[0][1])+(A[1][1]*B[1][1]);ac.count()\n",
    "        ac.count()\n",
    "        return result\n",
    "    else:\n",
    "        odd=False; ac.count()\n",
    "        if (row%2!=0):\n",
    "            ac.count()\n",
    "            A= np.concatenate((A,iniciar_matriz_vacia(1,len(A))),axis=0);ac.count()\n",
    "            A= np.concatenate((A,iniciar_matriz_vacia(len(A),1)),axis=1);ac.count()\n",
    "            B= np.concatenate((B,iniciar_matriz_vacia(1,len(B))),axis=0);ac.count()\n",
    "            B= np.concatenate((B,iniciar_matriz_vacia(len(B),1)),axis=1);ac.count()\n",
    "            odd=True; acct.count()                \n",
    "        C=iniciar_matriz_vacia(2, 2); ac.count()\n",
    "        C[0][0]=s(ac_d(A[:len(A)/2,:len(A)/2],B[:len(B)/2,:len(B)/2],ac), ac_d(A[:len(A)/2,len(A)/2:],B[len(B)/2:,:len(B)/2],ac))\n",
    "        ac.count()\n",
    "        C[0][1]=s(ac_d(A[:len(A)/2,:len(A)/2],B[:len(B)/2,len(B)/2:],ac), ac_d(A[:len(A)/2,len(A)/2:],B[len(B)/2:,len(B)/2:],ac))\n",
    "        ac.count()\n",
    "        C[1][0]=s(ac_d(A[len(A)/2:,:len(A)/2],B[:len(B)/2,:len(B)/2],ac), ac_d(A[len(A)/2:,len(A)/2:],B[len(B)/2:,:len(B)/2],ac))\n",
    "        ac.count()\n",
    "        C[1][1]=s(ac_d(A[len(A)/2:,:len(A)/2],B[:len(B)/2,len(B)/2:],ac), ac_d(A[len(A)/2:,len(A)/2:],B[len(B)/2:,len(B)/2:],ac))\n",
    "        ac.count()\n",
    "        a=np.concatenate((C[0][0],C[0][1]),axis=1); ac.count()\n",
    "        b=np.concatenate((C[1][0],C[1][1]),axis=1); ac.count()\n",
    "        C=np.concatenate((a,b),axis=0); ac.count()\n",
    "        if (odd):\n",
    "            ac.count()\n",
    "            C= np.delete(C, len(C)-1,0); ac.count()\n",
    "            C= np.delete(C, len(C),1); ac.count()\n",
    "        ac.count()\n",
    "        return C"
   ]
  },
  {
   "cell_type": "code",
   "execution_count": 12,
   "metadata": {
    "collapsed": false
   },
   "outputs": [
    {
     "name": "stdout",
     "output_type": "stream",
     "text": [
      "Number of steps = 756\n"
     ]
    }
   ],
   "source": [
    "A= iniciar_matriz_aleatoria(5,5,6)\n",
    "B= iniciar_matriz_aleatoria(5,5,6)\n",
    "ac = Counter()\n",
    "ac_d(A, B, ac)\n",
    "ac.print_steps()"
   ]
  },
  {
   "cell_type": "markdown",
   "metadata": {},
   "source": [
    "<h4>Análisis experimental</h4><br>\n",
    "A continuación se analizará el comportamiento del algoritmo cuando el tamaño de las matrices de entrada varía, desde 2 hasta 100, se graficarán los resultados de total de instrucciones Vs tamaño de la matriz."
   ]
  },
  {
   "cell_type": "code",
   "execution_count": 13,
   "metadata": {
    "collapsed": true
   },
   "outputs": [],
   "source": [
    "import time\n",
    "\n",
    "def exper_analysis_div(n):\n",
    "    analysis= []\n",
    "    results = []\n",
    "    tiempo = []\n",
    "    acct = Counter()\n",
    "    for i in range(n):\n",
    "        tic = time.clock()#get start time\n",
    "        A= iniciar_matriz_aleatoria(i+2,i+2,6)\n",
    "        B= iniciar_matriz_aleatoria(i+2,i+2,6)\n",
    "        acct.reset()\n",
    "        ac_d(A, B, acct)\n",
    "        results.append(acct.steps)\n",
    "        toc = time.clock()#get final time\n",
    "        tiempo.append(toc-tic)\n",
    "    analysis.append(results)\n",
    "    analysis.append(tiempo)\n",
    "    return analysis"
   ]
  },
  {
   "cell_type": "code",
   "execution_count": 14,
   "metadata": {
    "collapsed": false
   },
   "outputs": [
    {
     "name": "stdout",
     "output_type": "stream",
     "text": [
      "[[9, 92, 84, 756, 748, 692, 684, 6068, 6060, 6004, 5996, 5556, 5548, 5492, 5484, 48564, 48556, 48500, 48492, 48052, 48044, 47988, 47980, 44468, 44460, 44404, 44396, 43956, 43948, 43892, 43884, 388532, 388524, 388468, 388460, 388020, 388012, 387956, 387948, 384436, 384428, 384372, 384364, 383924, 383916, 383860, 383852, 355764, 355756, 355700, 355692, 355252, 355244, 355188, 355180, 351668, 351660, 351604, 351596, 351156, 351148, 351092, 351084, 3108276, 3108268, 3108212, 3108204, 3107764, 3107756, 3107700, 3107692, 3104180, 3104172, 3104116, 3104108, 3103668, 3103660, 3103604, 3103596, 3075508, 3075500, 3075444, 3075436, 3074996, 3074988, 3074932, 3074924, 3071412, 3071404, 3071348, 3071340, 3070900, 3070892, 3070836, 3070828, 2846132, 2846124, 2846068, 2846060, 2845620], [0.0001222581718280935, 0.0007196629176178249, 0.0010040263691237783, 0.005623574032000533, 0.005050620920577842, 0.004787992255174345, 0.003939429981087983, 0.03292971030548841, 0.02012822316312679, 0.018849795119457724, 0.014777843317553163, 0.0072334575637356124, 0.007108482543650041, 0.006710917081186096, 0.006773102719208168, 0.06921201136729138, 0.07026614849326052, 0.07292835791879781, 0.07004487629586009, 0.06882501142585085, 0.07190199301950884, 0.07169762565574445, 0.0680600677038612, 0.05789543273657216, 0.057305574791513436, 0.06485599798591579, 0.05879501138359444, 0.056369469628954505, 0.0562260804150867, 0.05825133985899811, 0.056883859566717376, 0.5684956690419938, 0.5884107705525068, 0.5948844162187399, 0.5884814086073362, 0.5688298413783244, 0.6338032675835876, 0.5741500340209811, 0.5883697159565386, 0.565089043192458, 0.5964393590411561, 0.5640599614449044, 0.609952358556356, 0.5628340591343175, 0.5620455693940372, 0.5791520535448527, 0.5871495492144945, 0.4772626968884808, 0.49889212965283036, 0.4952246863700651, 0.4716053131892153, 0.4757795996090124, 0.4730485633608197, 0.4721939636461485, 0.4722700353975142, 0.4735783487720653, 0.4766079364571425, 0.5391721219973533, 0.4871182148978761, 0.5237102366616284, 0.47028130246913236, 0.4645155467113824, 0.4791548307675271, 5.306478898239547, 5.613245178650885, 4.913075043575233, 4.786056953591995, 5.028264881838226, 4.755282609575019, 4.824138411947857, 4.770833245287321, 4.923505627800239, 4.742245662249886, 4.7562241484341, 4.754370352302757, 4.771363634442622, 4.747040295689715, 4.819610935253877, 4.759321959197763, 4.756889776258475, 4.7399574722685145, 4.63720627096879, 4.695800537452982, 4.653813156911269, 4.663585961984666, 4.7505969519377516, 4.724540565865141, 4.69907856581807, 4.667557692272879, 4.632252550969582, 4.705745409582988, 4.72121695482366, 4.738667271215718, 4.690123833943829, 4.641904607231282, 3.9556743187200993, 4.096148958149058, 3.9391830497648073, 4.016363577086935, 4.069493959842561]]\n"
     ]
    }
   ],
   "source": [
    "print (exper_analysis_div(100))"
   ]
  },
  {
   "cell_type": "code",
   "execution_count": 15,
   "metadata": {
    "collapsed": false
   },
   "outputs": [
    {
     "data": {
      "text/plain": [
       "[<matplotlib.lines.Line2D at 0x7fbbdd8>]"
      ]
     },
     "execution_count": 15,
     "metadata": {},
     "output_type": "execute_result"
    },
    {
     "data": {
      "image/png": "[encoded data removed]",
      "text/plain": [
       "<matplotlib.figure.Figure at 0x7dc5470>"
      ]
     },
     "metadata": {},
     "output_type": "display_data"
    }
   ],
   "source": [
    "pl.clf()\n",
    "x = np.arange(100)\n",
    "y = np.array(exper_analysis_div(100)[0])\n",
    "pl.plot(x, y, 'k.')"
   ]
  },
  {
   "cell_type": "markdown",
   "metadata": {},
   "source": [
    "<h2>Algoritmo de <i>Strassen</i></h2>"
   ]
  },
  {
   "cell_type": "code",
   "execution_count": 16,
   "metadata": {
    "collapsed": true
   },
   "outputs": [],
   "source": [
    "def s_suma(A,B):\n",
    "    result=iniciar_matriz_vacia(len(A), len(A))\n",
    "    for i in range(len(A)):\n",
    "        for j in range(len(A)):\n",
    "            result[i][j] = A[i][j]+ B[i][j]\n",
    "    return result\n",
    "\n",
    "def s_resta(A,B):\n",
    "    result=iniciar_matriz_vacia(len(A), len(A))\n",
    "    for i in range(len(A)):\n",
    "        for j in range(len(A)):\n",
    "            result[i][j] = A[i][j]- B[i][j]\n",
    "    return result\n",
    "\n",
    "def strassenR(A, B):\n",
    "    n = len(A)\n",
    "    if (n <= 2):\n",
    "        row=len(A)\n",
    "        col=len(B)\n",
    "        result=iniciar_matriz_vacia(row, col)\n",
    "        for i in range (row):\n",
    "            for j in range (col):\n",
    "                for k in range (col):\n",
    "                    result[i][j]+= A[i][k]*B[k][j]\n",
    "        return result\n",
    "    else:\n",
    "        new_size = n/2\n",
    "        a11 = [[0 for j in xrange(0, new_size)] for i in xrange(0, new_size)]\n",
    "        a12 = [[0 for j in xrange(0, new_size)] for i in xrange(0, new_size)]\n",
    "        a21 = [[0 for j in xrange(0, new_size)] for i in xrange(0, new_size)]\n",
    "        a22 = [[0 for j in xrange(0, new_size)] for i in xrange(0, new_size)]\n",
    "        b11 = [[0 for j in xrange(0, new_size)] for i in xrange(0, new_size)]\n",
    "        b12 = [[0 for j in xrange(0, new_size)] for i in xrange(0, new_size)]\n",
    "        b21 = [[0 for j in xrange(0, new_size)] for i in xrange(0, new_size)]\n",
    "        b22 = [[0 for j in xrange(0, new_size)] for i in xrange(0, new_size)]\n",
    "        aResult = [[0 for j in xrange(0, new_size)] for i in xrange(0, new_size)]\n",
    "        bResult = [[0 for j in xrange(0, new_size)] for i in xrange(0, new_size)]\n",
    "\n",
    "        for i in xrange(0, new_size):\n",
    "            for j in xrange(0, new_size):\n",
    "                a11[i][j] = A[i][j]            \n",
    "                a12[i][j] = A[i][j + new_size]    \n",
    "                a21[i][j] = A[i + new_size][j]    \n",
    "                a22[i][j] = A[i + new_size][j + new_size] \n",
    "                b11[i][j] = B[i][j]           \n",
    "                b12[i][j] = B[i][j + new_size]    \n",
    "                b21[i][j] = B[i + new_size][j]   \n",
    "                b22[i][j] = B[i + new_size][j + new_size] \n",
    "\n",
    "        aResult = s_suma(a11, a22)\n",
    "        bResult = s_suma(b11, b22)\n",
    "        p1 = strassenR(aResult, bResult)\n",
    "\n",
    "        aResult = s_suma(a21, a22)     \n",
    "        p2 = strassenR(aResult, b11)  \n",
    "\n",
    "        bResult = s_resta(b12, b22) \n",
    "        p3 = strassenR(a11, bResult)  \n",
    "\n",
    "        bResult = s_resta(b21, b11) \n",
    "        p4 =strassenR(a22, bResult)   \n",
    "\n",
    "        aResult = s_suma(a11, a12)     \n",
    "        p5 = strassenR(aResult, b22) \n",
    "\n",
    "        aResult = s_resta(a21, a11) \n",
    "        bResult = s_suma(b11, b12)     \n",
    "        p6 = strassenR(aResult, bResult) \n",
    "\n",
    "        aResult = s_resta(a12, a22)\n",
    "        bResult = s_suma(b21, b22)     \n",
    "        p7 = strassenR(aResult, bResult) \n",
    "       \n",
    "        c12 = s_suma(p3, p5) \n",
    "        c21 = s_suma(p2, p4)  \n",
    "\n",
    "        aResult = s_suma(p1, p4) \n",
    "        bResult = s_suma(aResult, p7) \n",
    "        c11 = s_resta(bResult, p5) \n",
    "\n",
    "        aResult = s_suma(p1, p3) \n",
    "        bResult = s_suma(aResult, p6) \n",
    "        c22 = s_resta(bResult, p2) \n",
    "        \n",
    "        C = [[0 for j in xrange(0, n)] for i in xrange(0, n)]\n",
    "        for i in xrange(0, new_size):\n",
    "            for j in xrange(0, new_size):\n",
    "                C[i][j] = c11[i][j]\n",
    "                C[i][j + new_size] = c12[i][j]\n",
    "                C[i + new_size][j] = c21[i][j]\n",
    "                C[i + new_size][j + new_size] = c22[i][j]\n",
    "        return C\n",
    "\n",
    "def strassen(A, B):   \n",
    "    nextPowerOfTwo = lambda n: 2**int(ceil(log(n,2)))\n",
    "    n = len(A)\n",
    "    m = nextPowerOfTwo(n)\n",
    "    APrep = [[0 for i in xrange(m)] for j in xrange(m)]\n",
    "    BPrep = [[0 for i in xrange(m)] for j in xrange(m)]\n",
    "    for i in xrange(n):\n",
    "        for j in xrange(n):\n",
    "            APrep[i][j] = A[i][j]\n",
    "            BPrep[i][j] = B[i][j]\n",
    "    CPrep = strassenR(APrep, BPrep)\n",
    "    C = [[0 for i in xrange(n)] for j in xrange(n)]\n",
    "    for i in xrange(n):\n",
    "        for j in xrange(n):\n",
    "            C[i][j] = CPrep[i][j]\n",
    "    return C"
   ]
  },
  {
   "cell_type": "code",
   "execution_count": 17,
   "metadata": {
    "collapsed": false
   },
   "outputs": [
    {
     "name": "stdout",
     "output_type": "stream",
     "text": [
      "[[3 1 5 4 1]\n",
      " [3 1 0 0 2]\n",
      " [3 4 3 5 1]\n",
      " [3 5 5 3 3]\n",
      " [4 3 2 1 3]]\n",
      "[[3 1 2 0 2]\n",
      " [5 1 5 5 1]\n",
      " [0 2 2 3 3]\n",
      " [5 3 4 4 2]\n",
      " [0 4 3 1 2]]\n",
      "[[34, 30, 40, 37, 32], [14, 12, 17, 7, 11], [54, 32, 55, 50, 31], [49, 39, 62, 55, 38], [32, 26, 40, 28, 25]]\n"
     ]
    }
   ],
   "source": [
    "A= iniciar_matriz_aleatoria(5,5,6)\n",
    "B= iniciar_matriz_aleatoria(5,5,6)\n",
    "print A\n",
    "print B\n",
    "print strassen(A,B)"
   ]
  },
  {
   "cell_type": "markdown",
   "metadata": {},
   "source": [
    "<h4> Análisis del tiempo de ejecución</h4>"
   ]
  },
  {
   "cell_type": "code",
   "execution_count": 18,
   "metadata": {
    "collapsed": true
   },
   "outputs": [],
   "source": [
    "class Counter:\n",
    "    '''\n",
    "    Class Counter\n",
    "    Implements a step counter, which is used to compute the number of basic operations performed in\n",
    "    a particular call to a function.\n",
    "    '''\n",
    "    def __init__(self):\n",
    "        self.steps = 0\n",
    "\n",
    "    def reset(self):\n",
    "        self.steps = 0\n",
    "\n",
    "    def count(self):\n",
    "        self.steps += 1\n",
    "\n",
    "    def print_steps(self):\n",
    "        print \"Number of steps =\", self.steps\n",
    "        \n",
    "def acct_s_suma(A,B, acct):\n",
    "    result=iniciar_matriz_vacia(len(A), len(A)); acct.count()  \n",
    "    for i in range(len(A)):\n",
    "        acct.count()  \n",
    "        for j in range(len(A)):\n",
    "            acct.count()  \n",
    "            result[i][j] = A[i][j]+ B[i][j]; acct.count()  \n",
    "    acct.count()  \n",
    "    return result\n",
    "\n",
    "def acct_s_resta(A,B, acct):\n",
    "    result=iniciar_matriz_vacia(len(A), len(A)); acct.count()  \n",
    "    for i in range(len(A)):\n",
    "        acct.count()  \n",
    "        for j in range(len(A)):\n",
    "            acct.count()  \n",
    "            result[i][j] = A[i][j]- B[i][j]; acct.count()  \n",
    "    acct.count()  \n",
    "    return result\n",
    "\n",
    "def acct_strassenR(A, B, acct):\n",
    "    n = len(A); acct.count()  \n",
    "    if (n <= 2):\n",
    "        acct.count()  \n",
    "        row=len(A); acct.count()  \n",
    "        col=len(B); acct.count()  \n",
    "        result=iniciar_matriz_vacia(row, col); acct.count()  \n",
    "        for i in range (row):\n",
    "            acct.count()  \n",
    "            for j in range (col):\n",
    "                acct.count()  \n",
    "                for k in range (col):\n",
    "                    acct.count()  \n",
    "                    result[i][j]+= A[i][k]*B[k][j]; acct.count()\n",
    "        acct.count()  \n",
    "        return result\n",
    "    else:\n",
    "        new_size = n/2; acct.count()  \n",
    "        a11 = [[0 for j in xrange(0, new_size)] for i in xrange(0, new_size)]; acct.count()  \n",
    "        a12 = [[0 for j in xrange(0, new_size)] for i in xrange(0, new_size)]; acct.count()  \n",
    "        a21 = [[0 for j in xrange(0, new_size)] for i in xrange(0, new_size)]; acct.count()  \n",
    "        a22 = [[0 for j in xrange(0, new_size)] for i in xrange(0, new_size)]; acct.count()  \n",
    "        b11 = [[0 for j in xrange(0, new_size)] for i in xrange(0, new_size)]; acct.count()  \n",
    "        b12 = [[0 for j in xrange(0, new_size)] for i in xrange(0, new_size)]; acct.count()  \n",
    "        b21 = [[0 for j in xrange(0, new_size)] for i in xrange(0, new_size)]; acct.count()  \n",
    "        b22 = [[0 for j in xrange(0, new_size)] for i in xrange(0, new_size)]; acct.count()  \n",
    "        aResult = [[0 for j in xrange(0, new_size)] for i in xrange(0, new_size)]; acct.count()  \n",
    "        bResult = [[0 for j in xrange(0, new_size)] for i in xrange(0, new_size)]; acct.count()  \n",
    "\n",
    "        for i in xrange(0, new_size):\n",
    "            acct.count()  \n",
    "            for j in xrange(0, new_size):\n",
    "                acct.count()  \n",
    "                a11[i][j] = A[i][j]  ;   acct.count()         \n",
    "                a12[i][j] = A[i][j + new_size] ;   acct.count()  \n",
    "                a21[i][j] = A[i + new_size][j] ;   acct.count()  \n",
    "                a22[i][j] = A[i + new_size][j + new_size] ; acct.count()  \n",
    "                b11[i][j] = B[i][j]  ; acct.count()          \n",
    "                b12[i][j] = B[i][j + new_size] ; acct.count()    \n",
    "                b21[i][j] = B[i + new_size][j] ; acct.count()   \n",
    "                b22[i][j] = B[i + new_size][j + new_size] ; acct.count()  \n",
    "\n",
    "        aResult = acct_s_suma(a11, a22, acct); acct.count()  \n",
    "        bResult = acct_s_suma(b11, b22, acct);  acct.count()  \n",
    "        p1 = acct_strassenR(aResult, bResult, acct); acct.count()  \n",
    "\n",
    "        aResult = acct_s_suma(a21, a22, acct) ; acct.count()  \n",
    "        p2 = acct_strassenR(aResult, b11, acct)  ; acct.count()   \n",
    "\n",
    "        bResult = acct_s_resta(b12, b22, acct) ; acct.count()  \n",
    "        p3 = acct_strassenR(a11, bResult, acct)  ; acct.count()  \n",
    "\n",
    "        bResult = acct_s_resta(b21, b11, acct) ; acct.count()  \n",
    "        p4 =acct_strassenR(a22, bResult, acct)   ; acct.count()  \n",
    "\n",
    "        aResult = acct_s_suma(a11, a12, acct)    ; acct.count()  \n",
    "        p5 = acct_strassenR(aResult, b22, acct) ; acct.count()  \n",
    "\n",
    "        aResult = acct_s_resta(a21, a11, acct) ; acct.count()  \n",
    "        bResult = acct_s_suma(b11, b12, acct)   ; acct.count()  \n",
    "        p6 = acct_strassenR(aResult, bResult, acct) ; acct.count()  \n",
    "\n",
    "        aResult = acct_s_resta(a12, a22, acct) ; acct.count()  \n",
    "        bResult = acct_s_suma(b21, b22, acct)  ; acct.count()     \n",
    "        p7 = acct_strassenR(aResult, bResult, acct) ; acct.count()  \n",
    "       \n",
    "        c12 = acct_s_suma(p3, p5, acct) ; acct.count()  \n",
    "        c21 = acct_s_suma(p2, p4, acct) ; acct.count()  \n",
    "\n",
    "        aResult = acct_s_suma(p1, p4, acct) ; acct.count()  \n",
    "        bResult = acct_s_suma(aResult, p7, acct) ; acct.count()  \n",
    "        c11 = acct_s_resta(bResult, p5, acct) ; acct.count()  \n",
    "\n",
    "        aResult = acct_s_suma(p1, p3, acct) ; acct.count()  \n",
    "        bResult = acct_s_suma(aResult, p6, acct) ; acct.count()   \n",
    "        c22 = acct_s_resta(bResult, p2, acct) ; acct.count()  \n",
    "        \n",
    "        C = [[0 for j in xrange(0, n)] for i in xrange(0, n)]; acct.count()  \n",
    "        for i in xrange(0, new_size):\n",
    "            acct.count()  \n",
    "            for j in xrange(0, new_size):\n",
    "                acct.count()  \n",
    "                C[i][j] = c11[i][j]; acct.count()  \n",
    "                C[i][j + new_size] = c12[i][j]; acct.count()  \n",
    "                C[i + new_size][j] = c21[i][j]; acct.count()  \n",
    "                C[i + new_size][j + new_size] = c22[i][j]; acct.count()  \n",
    "        acct.count()  \n",
    "        return C\n",
    "\n",
    "def acct_strassen(A, B, acct):   \n",
    "    nextPowerOfTwo = lambda n: 2**int(ceil(log(n,2))); acct.count()  \n",
    "    n = len(A); acct.count()  \n",
    "    m = nextPowerOfTwo(n); acct.count()  \n",
    "    APrep = [[0 for i in xrange(m)] for j in xrange(m)]; acct.count()  \n",
    "    BPrep = [[0 for i in xrange(m)] for j in xrange(m)]; acct.count()  \n",
    "    for i in xrange(n):\n",
    "        acct.count()  \n",
    "        for j in xrange(n):\n",
    "            acct.count()  \n",
    "            APrep[i][j] = A[i][j]; acct.count()  \n",
    "            BPrep[i][j] = B[i][j]; acct.count()  \n",
    "    CPrep = acct_strassenR(APrep, BPrep, acct); acct.count()  \n",
    "    C = [[0 for i in xrange(n)] for j in xrange(n)]; acct.count()  \n",
    "    for i in xrange(n):\n",
    "        acct.count()  \n",
    "        for j in xrange(n):\n",
    "            acct.count()  \n",
    "            C[i][j] = CPrep[i][j]; acct.count()  \n",
    "    acct.count()  \n",
    "    return C"
   ]
  },
  {
   "cell_type": "code",
   "execution_count": 19,
   "metadata": {
    "collapsed": false
   },
   "outputs": [
    {
     "name": "stdout",
     "output_type": "stream",
     "text": [
      "Number of steps = 4675\n"
     ]
    }
   ],
   "source": [
    "A= iniciar_matriz_aleatoria(5,5,6)\n",
    "B= iniciar_matriz_aleatoria(5,5,6)\n",
    "acct = Counter()\n",
    "acct_strassen(A, B, acct)\n",
    "acct.print_steps()"
   ]
  },
  {
   "cell_type": "markdown",
   "metadata": {},
   "source": [
    "<h4>Análisis experimental</h4><br>\n",
    "A continuación se analizará el comportamiento del algoritmo cuando el tamaño de las matrices de entrada varía, desde 2 hasta 100, se graficarán los resultados de total de instrucciones Vs tamaño de la matriz."
   ]
  },
  {
   "cell_type": "code",
   "execution_count": 20,
   "metadata": {
    "collapsed": true
   },
   "outputs": [],
   "source": [
    "import time\n",
    "\n",
    "def exper_analysis_strassen(n):\n",
    "    analysis= []\n",
    "    results = []\n",
    "    tiempo = []\n",
    "    acct = Counter()\n",
    "    for i in range(n):\n",
    "        tic = time.clock()#get start time\n",
    "        A= iniciar_matriz_aleatoria(i+2,i+2,6)\n",
    "        B= iniciar_matriz_aleatoria(i+2,i+2,6)\n",
    "        acct.reset()\n",
    "        acct_strassen(A, B, acct)\n",
    "        results.append(acct.steps)\n",
    "        toc = time.clock()#get final time\n",
    "        tiempo.append(toc-tic)\n",
    "    analysis.append(results)\n",
    "    analysis.append(tiempo)\n",
    "    return analysis"
   ]
  },
  {
   "cell_type": "code",
   "execution_count": 21,
   "metadata": {
    "collapsed": false
   },
   "outputs": [
    {
     "name": "stdout",
     "output_type": "stream",
     "text": [
      "[[60, 570, 607, 4675, 4732, 4799, 4876, 35590, 35687, 35794, 35911, 36038, 36175, 36322, 36479, 260795, 260972, 261159, 261356, 261563, 261780, 262007, 262244, 262491, 262748, 263015, 263292, 263579, 263876, 264183, 264500, 1872590, 1872927, 1873274, 1873631, 1873998, 1874375, 1874762, 1875159, 1875566, 1875983, 1876410, 1876847, 1877294, 1877751, 1878218, 1878695, 1879182, 1879679, 1880186, 1880703, 1881230, 1881767, 1882314, 1882871, 1883438, 1884015, 1884602, 1885199, 1885806, 1886423, 1887050, 1887687, 13296915, 13297572, 13298239, 13298916, 13299603, 13300300, 13301007, 13301724, 13302451, 13303188, 13303935, 13304692, 13305459, 13306236, 13307023, 13307820, 13308627, 13309444, 13310271, 13311108, 13311955, 13312812, 13313679, 13314556, 13315443, 13316340, 13317247, 13318164, 13319091, 13320028, 13320975, 13321932, 13322899, 13323876, 13324863, 13325860, 13326867], [0.00021764973308791014, 0.0014553250528024364, 0.0014408351953534293, 0.008505546294770738, 0.008622974514196358, 0.008565618828583865, 0.008789004130221656, 0.02842245903747198, 0.01723749661147167, 0.013994485401781276, 0.013719781855229485, 0.016746954564041516, 0.014566231025071374, 0.013378062718118144, 0.013529904348843047, 0.09487536005786978, 0.1027623705648466, 0.09515911976535563, 0.0942649748148483, 0.09766918568811889, 0.09500154256608084, 0.09865842032786531, 0.11355369186475173, 0.11833775978351468, 0.10415279313133396, 0.09669504464989132, 0.09799460373562852, 0.09698695490209275, 0.09720762335547306, 0.14795774516079518, 0.10595678037782363, 0.7399689434056427, 0.7017401714995799, 0.7187666595626183, 0.7063742090198275, 0.7489254865120643, 0.7282019717073922, 0.7066009149137358, 0.6926025051755573, 0.7085102554984246, 0.7032253818832146, 0.7103906163683291, 0.6947521358954987, 0.7022442977882974, 0.7541843991327823, 0.7194045151603632, 0.7016236488962591, 0.71295773610467, 0.7264686225156538, 0.7727096818207997, 0.7628402776981034, 0.6922272782433083, 0.7119636715125353, 0.7283399272246811, 0.7086654177214768, 0.7453558497667245, 0.7188566174272637, 0.7323804843355788, 0.6872554459223466, 0.6982891704616918, 0.7123941410261523, 0.7391143436909715, 0.7145307912488761, 5.086495392527183, 5.094488058244394, 5.174619082779941, 5.397335737844685, 4.9772720549214, 5.267821468051977, 5.3417236651369535, 5.292677912808529, 5.101358967501085, 4.989364142795125, 5.054200217227049, 4.837604923170488, 5.112197078965551, 5.045527131956192, 4.896926701245093, 5.016788914776043, 4.983763511037296, 5.049065977754481, 5.109776065291385, 4.950512307020858, 4.943909761998157, 5.1041446425865615, 5.235323132876147, 5.080163626714693, 4.99473444619457, 5.10940868703176, 5.12181774053613, 5.009726014908779, 5.175684992914967, 5.0774941723605025, 5.053415349951138, 4.968333926008768, 5.0874773822381485, 5.007300775026238, 5.700924513276732, 6.759543231395128, 5.554476128261854]]\n"
     ]
    }
   ],
   "source": [
    "print (exper_analysis_strassen(100))"
   ]
  },
  {
   "cell_type": "code",
   "execution_count": 22,
   "metadata": {
    "collapsed": false
   },
   "outputs": [
    {
     "data": {
      "text/plain": [
       "[<matplotlib.lines.Line2D at 0x809b898>]"
      ]
     },
     "execution_count": 22,
     "metadata": {},
     "output_type": "execute_result"
    },
    {
     "data": {
      "image/png": "[encoded data removed]",
      "text/plain": [
       "<matplotlib.figure.Figure at 0x7df55c0>"
      ]
     },
     "metadata": {},
     "output_type": "display_data"
    }
   ],
   "source": [
    "pl.clf()\n",
    "x = np.arange(100)\n",
    "y = np.array(exper_analysis_strassen(100)[0])\n",
    "pl.plot(x, y, 'k.')"
   ]
  },
  {
   "cell_type": "markdown",
   "metadata": {},
   "source": [
    "<h2>Comparación de tiempos de ejecución</h2><br>\n",
    "A continuación se mostrará una gráfica que compare los tiempos de ejecución de cada uno de los algoritmos, siendo <i>multiplicación de matrices</i> en negro, <i>divide and conquer</i> en rojo y <i>strassen</i> en azul"
   ]
  },
  {
   "cell_type": "code",
   "execution_count": 23,
   "metadata": {
    "collapsed": false
   },
   "outputs": [
    {
     "data": {
      "text/plain": [
       "[<matplotlib.lines.Line2D at 0x8342048>,\n",
       " <matplotlib.lines.Line2D at 0x8342128>,\n",
       " <matplotlib.lines.Line2D at 0x83427f0>]"
      ]
     },
     "execution_count": 23,
     "metadata": {},
     "output_type": "execute_result"
    },
    {
     "data": {
      "image/png": "[encoded data removed]",
      "text/plain": [
       "<matplotlib.figure.Figure at 0x8205198>"
      ]
     },
     "metadata": {},
     "output_type": "display_data"
    }
   ],
   "source": [
    "pl.clf()\n",
    "resultadosa= []\n",
    "resultadosb= []\n",
    "resultadosc= []\n",
    "x = np.arange(100)\n",
    "resultadosa = np.array(exper_analysis_mult(100))\n",
    "resultadosb = np.array(exper_analysis_div(100))\n",
    "resultadosc = np.array(exper_analysis_strassen(100))\n",
    "a = np.array(resultadosa[1])\n",
    "b = np.array(resultadosb[1])\n",
    "c = np.array(resultadosc[1])\n",
    "pl.plot(x, a,'k.', b, 'r', c, 'b')"
   ]
  }
 ],
 "metadata": {
  "kernelspec": {
   "display_name": "Python 2",
   "language": "python",
   "name": "python2"
  },
  "language_info": {
   "codemirror_mode": {
    "name": "ipython",
    "version": 2
   },
   "file_extension": ".py",
   "mimetype": "text/x-python",
   "name": "python",
   "nbconvert_exporter": "python",
   "pygments_lexer": "ipython2",
   "version": "2.7.13"
  }
 },
 "nbformat": 4,
 "nbformat_minor": 1
}
