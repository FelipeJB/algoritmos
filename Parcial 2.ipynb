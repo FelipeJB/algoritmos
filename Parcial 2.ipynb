{
 "cells": [
  {
   "cell_type": "markdown",
   "metadata": {},
   "source": [
    "<Algoritmo usando programación dinámica.</h1>"
   ]
  },
  {
   "cell_type": "markdown",
   "metadata": {},
   "source": [
    "<h3>1. Es posible transformar algorithm en analysis sin usar operaciones “izquierda”. Escriba una secuencia\n",
    "de operaciones (de la misma forma que la tabla de ejemplo) que tenga el mismo costo que el mostrado\n",
    "en el ejemplo pero sin usar operaciones “izquierda”.</h3>\n"
   ]
  },
  {
   "cell_type": "markdown",
   "metadata": {},
   "source": [
    "<pre>Operación           z          Costo         Total</pre>\n",
    "<pre>inicialización    algorithm      0             0</pre>\n",
    "<pre>derecha           algorithm      0             0</pre>\n",
    "<pre>insertar n        anlgorithm     3             3</pre>\n",
    "<pre>insertar a        analgorithm    3             6</pre>\n",
    "<pre>derecha           analgorithm    0             6</pre>\n",
    "<pre>reemplazar(y)     analyorithm    4             10</pre>\n",
    "<pre>reemplazar(s)     analysrithm    4             14</pre>\n",
    "<pre>reemplazar(i)     analysiithm    4             18</pre>\n",
    "<pre>reemplazar(s)     analysisthm    4             22</pre>\n",
    "<pre>eliminar          analysishm     2             24</pre>\n",
    "<pre>eliminar          analysism      2             26</pre>\n",
    "<pre>eliminar          analysis       2             28</pre>"
   ]
  },
  {
   "cell_type": "markdown",
   "metadata": {},
   "source": [
    "<h3>2. Muestre que para dos cadenas x y y con distancia de edici´on d(x, y), existe una secuencia S de operaciones\n",
    "que transforman x en y con costo d(x, y) donde S no contiene operaciones “izquierda”.</h3>"
   ]
  },
  {
   "cell_type": "markdown",
   "metadata": {},
   "source": [
    "Al igual que en la demostración del punto anterior, en comparación con la demostración dada en el enunciado con operaciones izquierda(en dónde son necesarias porque las modificaciones no se realizan en orden), toda operación izquierda puede revertirse con una operación derecha, por lo tanto, siempre se podrá evitar dar una operación izquierda si se empiezan a hacer los cambios de manera ordenada y moviéndose a la derecha."
   ]
  },
  {
   "cell_type": "markdown",
   "metadata": {},
   "source": [
    "<h3>3. Muestre que el problema de calcular la distancia de edici´on d(x, y) presenta una subestructura ´optima.\n",
    "(Considere todos los sufijos de x y y)\n",
    "</h3>"
   ]
  },
  {
   "cell_type": "code",
   "execution_count": null,
   "metadata": {
    "collapsed": true
   },
   "outputs": [],
   "source": []
  },
  {
   "cell_type": "markdown",
   "metadata": {},
   "source": [
    "<h3>4. Recursivamente defina el valor de la distancia de edici´on d(x, y) en terminos de los sufijos de las cadenas\n",
    "x y y. Señale como la distancia de edici´on contiene sobrelapamiento de los subproblemas.</h3>"
   ]
  },
  {
   "cell_type": "code",
   "execution_count": null,
   "metadata": {
    "collapsed": true
   },
   "outputs": [],
   "source": []
  },
  {
   "cell_type": "markdown",
   "metadata": {},
   "source": [
    "<h3>5. Describa un algoritmo de programación dinámica que calcule la distancia de edici´on de x y y. (No use\n",
    "memorización) Analise el tiempo de ejecuci´on y el espacio requeridos por su algoritmo.</h3>"
   ]
  },
  {
   "cell_type": "markdown",
   "metadata": {},
   "source": [
    "En el algoritmo que se va a utilizar se requiere la creación de una matriz, de tamaño en filas del tamaño de la primera cadena + 1, y en columnas, del tamaño de la segunda cadena +1. Esta matriz debe inicializarse  en su primera fila, los números del 0 al tamaño de la cadena 1 +1; y en su primera columna, los números del 0 al tamaño de la cadena 2+1. \n",
    "Posteriormente, sen un ciclo anidado que recorra la matriz por filas y columnas(empezando en 1,1), se le debe asignar el valor a la respectiva celda, del mínimo resultado entre <pre>resp[i][j-1]+3, resp[i-1][j]+2, resp[i-1][j-1]+x</pre> siendo el primer caso inserción, el segundo eliminación, y el tercero, derecha cuando el valor de ambas cadenas en la respectiva posición sea igual($x=0$), o reemplazar de lo contrario ($x=4$).\n",
    "\n",
    "El gasto en memoria de este algoritmo sería de: $(tamañoCadena1 +1)* (tamañoCadena2 +1)$ ya que solo se debe crear una matriz de tal tamaño.\n",
    "\n",
    "El tiempo de ejecución teóricamente sería de $O(n*m)$ debido a que se utiliza un ciclo anidado recorrido $n*m$ veces.\n",
    "\n",
    "A continuación se muestra el análisis experimental del tiempo de ejecución:"
   ]
  },
  {
   "cell_type": "code",
   "execution_count": 23,
   "metadata": {
    "collapsed": false
   },
   "outputs": [],
   "source": [
    "class Counter:\n",
    "    '''\n",
    "    Class Counter\n",
    "    Implements a step counter, which is used to compute the number of basic operations performed in\n",
    "    a particular call to a function.\n",
    "    '''\n",
    "    def __init__(self):\n",
    "        self.steps = 0\n",
    "\n",
    "    def reset(self):\n",
    "        self.steps = 0\n",
    "\n",
    "    def count(self):\n",
    "        self.steps += 1\n",
    "\n",
    "    def print_steps(self):\n",
    "        print \"Number of steps =\", self.steps\n",
    "        \n",
    "def acct_edit_distance(a, b, acct):\n",
    "    \n",
    "    resp=[]; acct.count()    \n",
    "    tamA= len(a); acct.count()\n",
    "    tamB= len(b); acct.count()\n",
    "    \n",
    "    for i in range(tamA+1):\n",
    "        acct.count()\n",
    "        resp.append((tamB+1)*[0]); acct.count()\n",
    "        resp[i][0]=i; acct.count()\n",
    "        \n",
    "    for i in range(tamB+1):\n",
    "        acct.count()\n",
    "        resp[0][i] = i  ; acct.count() \n",
    "            \n",
    "    for i in range(1, tamA+1):\n",
    "        acct.count()\n",
    "        for j in range(1, tamB+1): \n",
    "            acct.count()\n",
    "            x=4 ; acct.count() \n",
    "            if (a[i-1] == b[j-1]):\n",
    "                acct.count() \n",
    "                x=0; acct.count()\n",
    "                \n",
    "                \n",
    "            resp[i][j] = min(resp[i][j-1]+3, resp[i-1][j]+2, resp[i-1][j-1]+x); acct.count() \n",
    "\n",
    "    return resp[tamA][tamB]\n",
    "\n",
    "import random as rnd\n",
    "import string\n",
    "import time\n",
    "\n",
    "\n",
    "def exper_analysis(n):\n",
    "    results = []\n",
    "    tiempo=[]    \n",
    "    acct = Counter()\n",
    "    for i in range (1,n):\n",
    "        x=\"\".join(rnd.choice(string.ascii_uppercase)for _ in range (i))\n",
    "        y=\"\".join(rnd.choice(string.ascii_uppercase)for _ in range (i))\n",
    "        acct.reset\n",
    "        tic = time.clock()#get start time\n",
    "        acct_edit_distance(x,y,acct)\n",
    "        toc = time.clock()#get final time\n",
    "        tiempo.append(toc-tic)\n",
    "        results.append(acct.steps)\n",
    "        \n",
    "    r= [tiempo, results]\n",
    "    \n",
    "    return r"
   ]
  },
  {
   "cell_type": "code",
   "execution_count": 26,
   "metadata": {
    "collapsed": false
   },
   "outputs": [
    {
     "data": {
      "text/plain": [
       "[<matplotlib.lines.Line2D at 0x7ebc3c8>,\n",
       " <matplotlib.lines.Line2D at 0x7ebc4a8>]"
      ]
     },
     "execution_count": 26,
     "metadata": {},
     "output_type": "execute_result"
    },
    {
     "data": {
      "image/png": "[encoded data removed]",
      "text/plain": [
       "<matplotlib.figure.Figure at 0x4699eb8>"
      ]
     },
     "metadata": {},
     "output_type": "display_data"
    }
   ],
   "source": [
    "import matplotlib.pyplot as pl\n",
    "import numpy as np\n",
    "%matplotlib inline\n",
    "pl.figure (1)\n",
    "x=np.arange(29)\n",
    "res=(exper_analysis(30))\n",
    "p=np.array(res[0])\n",
    "t=np.array(res[0])*100\n",
    "pl.plot(x, p, 'k.', t, 'r.')"
   ]
  },
  {
   "cell_type": "markdown",
   "metadata": {},
   "source": [
    "<h3>6. Implemente su algoritmo en Python, y publiquelo en un NoteBook donde lo pruebe para las cadenas:\n",
    "x = software engineering, y = computer science</h3>"
   ]
  },
  {
   "cell_type": "code",
   "execution_count": 13,
   "metadata": {
    "collapsed": true
   },
   "outputs": [],
   "source": [
    "def edit_distance(a, b):\n",
    "    \n",
    "    resp=[]    \n",
    "    tamA= len(a)\n",
    "    tamB= len(b)\n",
    "    \n",
    "    for i in range(tamA+1):\n",
    "        resp.append((tamB+1)*[0])\n",
    "        resp[i][0]=i\n",
    "        \n",
    "    for i in range(tamB+1):\n",
    "         resp[0][i] = i   \n",
    "            \n",
    "    for i in range(1, tamA+1):\n",
    "        for j in range(1, tamB+1):            \n",
    "            x=4\n",
    "            if (a[i-1] == b[j-1]):\n",
    "                x=0\n",
    "                \n",
    "            resp[i][j] = min(resp[i][j-1]+3, resp[i-1][j]+2, resp[i-1][j-1]+x)\n",
    "\n",
    "    return resp[tamA][tamB]"
   ]
  },
  {
   "cell_type": "code",
   "execution_count": 14,
   "metadata": {
    "collapsed": false
   },
   "outputs": [
    {
     "name": "stdout",
     "output_type": "stream",
     "text": [
      "[[0, 1, 2, 3, 4, 5, 6, 7, 8, 9, 10, 11, 12, 13, 14, 15, 16], [1, 0, 0, 0, 0, 0, 0, 0, 0, 0, 0, 0, 0, 0, 0, 0, 0], [2, 0, 0, 0, 0, 0, 0, 0, 0, 0, 0, 0, 0, 0, 0, 0, 0], [3, 0, 0, 0, 0, 0, 0, 0, 0, 0, 0, 0, 0, 0, 0, 0, 0], [4, 0, 0, 0, 0, 0, 0, 0, 0, 0, 0, 0, 0, 0, 0, 0, 0], [5, 0, 0, 0, 0, 0, 0, 0, 0, 0, 0, 0, 0, 0, 0, 0, 0], [6, 0, 0, 0, 0, 0, 0, 0, 0, 0, 0, 0, 0, 0, 0, 0, 0], [7, 0, 0, 0, 0, 0, 0, 0, 0, 0, 0, 0, 0, 0, 0, 0, 0], [8, 0, 0, 0, 0, 0, 0, 0, 0, 0, 0, 0, 0, 0, 0, 0, 0], [9, 0, 0, 0, 0, 0, 0, 0, 0, 0, 0, 0, 0, 0, 0, 0, 0], [10, 0, 0, 0, 0, 0, 0, 0, 0, 0, 0, 0, 0, 0, 0, 0, 0], [11, 0, 0, 0, 0, 0, 0, 0, 0, 0, 0, 0, 0, 0, 0, 0, 0], [12, 0, 0, 0, 0, 0, 0, 0, 0, 0, 0, 0, 0, 0, 0, 0, 0], [13, 0, 0, 0, 0, 0, 0, 0, 0, 0, 0, 0, 0, 0, 0, 0, 0], [14, 0, 0, 0, 0, 0, 0, 0, 0, 0, 0, 0, 0, 0, 0, 0, 0], [15, 0, 0, 0, 0, 0, 0, 0, 0, 0, 0, 0, 0, 0, 0, 0, 0], [16, 0, 0, 0, 0, 0, 0, 0, 0, 0, 0, 0, 0, 0, 0, 0, 0], [17, 0, 0, 0, 0, 0, 0, 0, 0, 0, 0, 0, 0, 0, 0, 0, 0], [18, 0, 0, 0, 0, 0, 0, 0, 0, 0, 0, 0, 0, 0, 0, 0, 0], [19, 0, 0, 0, 0, 0, 0, 0, 0, 0, 0, 0, 0, 0, 0, 0, 0], [20, 0, 0, 0, 0, 0, 0, 0, 0, 0, 0, 0, 0, 0, 0, 0, 0]]\n",
      "44\n"
     ]
    }
   ],
   "source": [
    "x=edit_distance (\"software engineering\", \"computer science\")\n",
    "print x"
   ]
  },
  {
   "cell_type": "markdown",
   "metadata": {},
   "source": [
    "<h3>7. Ejecute su programa para las tres instancias proveidas en 3 archivos de texto plano, donde cada archivo\n",
    "contiene las siguientes cuatro l´ıneas:\n",
    "</h3>"
   ]
  },
  {
   "cell_type": "code",
   "execution_count": 12,
   "metadata": {
    "collapsed": false
   },
   "outputs": [
    {
     "name": "stdout",
     "output_type": "stream",
     "text": [
      "Instancia 1\n",
      "1601\n"
     ]
    }
   ],
   "source": [
    "print \"Instancia 1\"\n",
    "\n",
    "inf = open(\"ps7_input1.txt\")\n",
    "p=[]\n",
    "for l in inf:\n",
    "    p.append(l)\n",
    "inf.close()\n",
    "\n",
    "result=edit_distance (p[1],p[3])\n",
    "print result"
   ]
  },
  {
   "cell_type": "code",
   "execution_count": 10,
   "metadata": {
    "collapsed": false
   },
   "outputs": [
    {
     "name": "stdout",
     "output_type": "stream",
     "text": [
      "Instancia 2\n",
      "1687\n"
     ]
    }
   ],
   "source": [
    "print \"Instancia 2\"\n",
    "\n",
    "inf = open(\"ps7_input2.txt\")\n",
    "p=[]\n",
    "for l in inf:\n",
    "    p.append(l)\n",
    "inf.close()\n",
    "\n",
    "result=edit_distance (p[1],p[3])\n",
    "print result"
   ]
  },
  {
   "cell_type": "code",
   "execution_count": 11,
   "metadata": {
    "collapsed": false
   },
   "outputs": [
    {
     "name": "stdout",
     "output_type": "stream",
     "text": [
      "Instancia 3\n",
      "1431\n"
     ]
    }
   ],
   "source": [
    "print \"Instancia 3\"\n",
    "\n",
    "inf = open(\"ps7_input3.txt\")\n",
    "p=[]\n",
    "for l in inf:\n",
    "    p.append(l)\n",
    "inf.close()\n",
    "\n",
    "result=edit_distance (p[1],p[3])\n",
    "print result"
   ]
  },
  {
   "cell_type": "code",
   "execution_count": 3,
   "metadata": {
    "collapsed": false
   },
   "outputs": [],
   "source": [
    "def rec_dist(a,b,tamA,tamB):\n",
    "\n",
    "    if(tamA == 0 and tamB == 0):  \n",
    "        return 0\n",
    "    if(tamA == 0):          \n",
    "        return tamB\n",
    "    if( tamB == 0 ):         \n",
    "        return tamA\n",
    "    \n",
    "    x=4\n",
    "    if (a[tamA-1] == b[tamB-1]):\n",
    "        x=0                   \n",
    "     \n",
    "    \n",
    "    return  min(rec_dist(a, b, tamA-1, tamB-1) + x, rec_dist(a, b, tamA-1, tamB) + 2, rec_dist(a, b, tamA, tamB-1) + 3)\n",
    "\n",
    "def rec_edit_distance(a,b):\n",
    "    return rec_dist(a,b,len(a),len(b))\n"
   ]
  },
  {
   "cell_type": "code",
   "execution_count": 4,
   "metadata": {
    "collapsed": false
   },
   "outputs": [
    {
     "name": "stdout",
     "output_type": "stream",
     "text": [
      "20\n"
     ]
    }
   ],
   "source": [
    "x=rec_edit_distance (\"algorithm\", \"analysis\")\n",
    "print x"
   ]
  }
 ],
 "metadata": {
  "anaconda-cloud": {},
  "kernelspec": {
   "display_name": "Python [default]",
   "language": "python",
   "name": "python2"
  },
  "language_info": {
   "codemirror_mode": {
    "name": "ipython",
    "version": 2
   },
   "file_extension": ".py",
   "mimetype": "text/x-python",
   "name": "python",
   "nbconvert_exporter": "python",
   "pygments_lexer": "ipython2",
   "version": "2.7.12"
  }
 },
 "nbformat": 4,
 "nbformat_minor": 2
}
