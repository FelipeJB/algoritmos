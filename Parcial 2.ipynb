{
 "cells": [
  {
   "cell_type": "markdown",
   "metadata": {},
   "source": [
    "<Algoritmo usando programación dinámica.</h1>"
   ]
  },
  {
   "cell_type": "markdown",
   "metadata": {},
   "source": [
    "<h1>Algoritmo utilizando Programación Dinámica</h1>"
   ]
  },
  {
   "cell_type": "code",
   "execution_count": 1,
   "metadata": {
    "collapsed": false
   },
   "outputs": [],
   "source": [
    "def edit_distance(a, b):\n",
    "    \n",
    "    resp=[]    \n",
    "    tamA= len(a)\n",
    "    tamB= len(b)\n",
    "    \n",
    "    for i in range(tamA+1):\n",
    "        resp.append((tamB+1)*[0])\n",
    "        resp[i][0]=i\n",
    "        \n",
    "    for i in range(tamB+1):\n",
    "         resp[0][i] = i\n",
    "            \n",
    "    for i in range(1, tamA+1):\n",
    "        for j in range(1, tamB+1):            \n",
    "            x=4\n",
    "            if (a[i-1] == b[j-1]):\n",
    "                x=0\n",
    "                \n",
    "            resp[i][j] = min(resp[i][j-1]+3, resp[i-1][j]+2, resp[i-1][j-1]+x)\n",
    "\n",
    "    return resp[tamA][tamB]"
   ]
  },
  {
   "cell_type": "code",
   "execution_count": 2,
   "metadata": {
    "collapsed": false
   },
   "outputs": [
    {
     "name": "stdout",
     "output_type": "stream",
     "text": [
      "20\n"
     ]
    }
   ],
   "source": [
    "x=edit_distance (\"algorithm\", \"analysis\")\n",
    "print x\n"
   ]
  },
  {
   "cell_type": "markdown",
   "metadata": {},
   "source": [
    "<h1>Solución recursiva</h1>"
   ]
  },
  {
   "cell_type": "code",
   "execution_count": 3,
   "metadata": {
    "collapsed": false
   },
   "outputs": [],
   "source": [
    "def rec_dist(a,b,tamA,tamB):\n",
    "\n",
    "    if(tamA == 0 and tamB == 0):  \n",
    "        return 0\n",
    "    if(tamA == 0):          \n",
    "        return tamB\n",
    "    if( tamB == 0 ):         \n",
    "        return tamA\n",
    "    \n",
    "    x=4\n",
    "    if (a[tamA-1] == b[tamB-1]):\n",
    "        x=0                   \n",
    "     \n",
    "    \n",
    "    return  min(rec_dist(a, b, tamA-1, tamB-1) + x, rec_dist(a, b, tamA-1, tamB) + 2, rec_dist(a, b, tamA, tamB-1) + 3)\n",
    "\n",
    "def rec_edit_distance(a,b):\n",
    "    return rec_dist(a,b,len(a),len(b))\n"
   ]
  },
  {
   "cell_type": "code",
   "execution_count": 4,
   "metadata": {
    "collapsed": false
   },
   "outputs": [
    {
     "name": "stdout",
     "output_type": "stream",
     "text": [
      "20\n"
     ]
    }
   ],
   "source": [
    "x=rec_edit_distance (\"algorithm\", \"analysis\")\n",
    "print x"
   ]
  }
 ],
 "metadata": {
  "kernelspec": {
   "display_name": "Python 2",
   "language": "python",
   "name": "python2"
  },
  "language_info": {
   "codemirror_mode": {
    "name": "ipython",
    "version": 2
   },
   "file_extension": ".py",
   "mimetype": "text/x-python",
   "name": "python",
   "nbconvert_exporter": "python",
   "pygments_lexer": "ipython2",
   "version": "2.7.13"
  }
 },
 "nbformat": 4,
 "nbformat_minor": 2
}
